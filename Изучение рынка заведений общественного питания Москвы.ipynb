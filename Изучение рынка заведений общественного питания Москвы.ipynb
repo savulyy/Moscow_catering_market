{
 "cells": [
  {
   "cell_type": "markdown",
   "id": "e06910dd",
   "metadata": {
    "id": "e06910dd"
   },
   "source": [
    "- Автор: Савина Юлия Сергеевна\n",
    "- Дата: 12.06.2025"
   ]
  },
  {
   "cell_type": "markdown",
   "id": "4149134c",
   "metadata": {
    "id": "4149134c"
   },
   "source": [
    "### Цели и задачи проекта\n",
    "\n",
    "Необходимо провести исследовательский анализ рынка Москвы для определения категории открытия заведения."
   ]
  },
  {
   "cell_type": "markdown",
   "id": "728986ea",
   "metadata": {
    "id": "728986ea"
   },
   "source": [
   ]
  },
  {
   "cell_type": "markdown",
   "id": "4f2fb4d3",
   "metadata": {},
   "source": [
 
   ]
  },
  {
   "cell_type": "markdown",
   "id": "4fecaf95",
   "metadata": {
    "id": "4fecaf95"
   },
   "source": [
    "### Содержимое проекта\n",
    "\n",
    "Приведём последовательность действий:\n",
    "1. Загрузить данные и познакомиться с их содержимым.\n",
    "2. Провести предобработку данных.\n",
    "3. Провести исследовательский анализ данных:\n",
    "- изучить данные более детально;\n",
    "- изучить взаимосвязь данных в столбце rating с другими данными.\n",
    "4. Сформулировать выводы по проведённому анализу.\n",
    "---"
   ]
  },
  {
   "cell_type": "markdown",
   "id": "6f7d21d6",
   "metadata": {
    "id": "6f7d21d6"
   },
   "source": [
    "## 1. Загрузка данных и знакомство с ними\n",
    "\n",
    "- Загрузим данные о заведениях общественного питания Москвы.,
    "- Познакомимся с данными и изучим общую информацию о них."
   ]
  },
  {
   "cell_type": "code",
   "execution_count": 1,
   "id": "1f74ccda",
   "metadata": {},
   "outputs": [
    {

    }
   ],
   "source": [
    "# Импортируем библиотеки\n",
    "import pandas as pd\n",
    "\n",
    "# Загружаем библиотеки для визуализации данных\n",
    "import matplotlib.pyplot as plt\n",
    "import seaborn as sns\n",
    "!pip install phik\n",
    "import phik\n",
    "from phik import report"
   ]
  },
  {
   "cell_type": "code",
   "execution_count": 2,
   "id": "05faf34b",
   "metadata": {
    "id": "05faf34b"
   },
   "outputs": [],
   "source": [
    "rest_info = pd.read_csv('rest_info.csv')\n",
    "rest_price = pd.read_csv('rest_price.csv')"
   ]
  },
  {
   "cell_type": "code",
   "execution_count": 3,
   "id": "ce87c1db",
   "metadata": {
    "id": "ce87c1db"
   },
   "outputs": [
    {
     "data": {
      "text/html": [
       "<div>\n",
       "<style scoped>\n",
       "    .dataframe tbody tr th:only-of-type {\n",
       "        vertical-align: middle;\n",
       "    }\n",
       "\n",
       "    .dataframe tbody tr th {\n",
       "        vertical-align: top;\n",
       "    }\n",
       "\n",
       "    .dataframe thead th {\n",
       "        text-align: right;\n",
       "    }\n",
       "</style>\n",
       "<table border=\"1\" class=\"dataframe\">\n",
       "  <thead>\n",
       "    <tr style=\"text-align: right;\">\n",
       "      <th></th>\n",
       "      <th>id</th>\n",
       "      <th>name</th>\n",
       "      <th>category</th>\n",
       "      <th>address</th>\n",
       "      <th>district</th>\n",
       "      <th>hours</th>\n",
       "      <th>rating</th>\n",
       "      <th>chain</th>\n",
       "      <th>seats</th>\n",
       "    </tr>\n",
       "  </thead>\n",
       "  <tbody>\n",
       "    <tr>\n",
       "      <th>0</th>\n",
       "      <td>0c3e3439a8c64ea5bf6ecd6ca6ae19f0</td>\n",
       "      <td>WoWфли</td>\n",
       "      <td>кафе</td>\n",
       "      <td>Москва, улица Дыбенко, 7/1</td>\n",
       "      <td>Северный административный округ</td>\n",
       "      <td>ежедневно, 10:00–22:00</td>\n",
       "      <td>5.0</td>\n",
       "      <td>0</td>\n",
       "      <td>NaN</td>\n",
       "    </tr>\n",
       "    <tr>\n",
       "      <th>1</th>\n",
       "      <td>045780ada3474c57a2112e505d74b633</td>\n",
       "      <td>Четыре комнаты</td>\n",
       "      <td>ресторан</td>\n",
       "      <td>Москва, улица Дыбенко, 36, корп. 1</td>\n",
       "      <td>Северный административный округ</td>\n",
       "      <td>ежедневно, 10:00–22:00</td>\n",
       "      <td>4.5</td>\n",
       "      <td>0</td>\n",
       "      <td>4.0</td>\n",
       "    </tr>\n",
       "    <tr>\n",
       "      <th>2</th>\n",
       "      <td>1070b6b59144425896c65889347fcff6</td>\n",
       "      <td>Хазри</td>\n",
       "      <td>кафе</td>\n",
       "      <td>Москва, Клязьминская улица, 15</td>\n",
       "      <td>Северный административный округ</td>\n",
       "      <td>пн-чт 11:00–02:00; пт,сб 11:00–05:00; вс 11:00...</td>\n",
       "      <td>4.6</td>\n",
       "      <td>0</td>\n",
       "      <td>45.0</td>\n",
       "    </tr>\n",
       "    <tr>\n",
       "      <th>3</th>\n",
       "      <td>03ac7cd772104f65b58b349dc59f03ee</td>\n",
       "      <td>Dormouse Coffee Shop</td>\n",
       "      <td>кофейня</td>\n",
       "      <td>Москва, улица Маршала Федоренко, 12</td>\n",
       "      <td>Северный административный округ</td>\n",
       "      <td>ежедневно, 09:00–22:00</td>\n",
       "      <td>5.0</td>\n",
       "      <td>0</td>\n",
       "      <td>NaN</td>\n",
       "    </tr>\n",
       "    <tr>\n",
       "      <th>4</th>\n",
       "      <td>a163aada139c4c7f87b0b1c0b466a50f</td>\n",
       "      <td>Иль Марко</td>\n",
       "      <td>пиццерия</td>\n",
       "      <td>Москва, Правобережная улица, 1Б</td>\n",
       "      <td>Северный административный округ</td>\n",
       "      <td>ежедневно, 10:00–22:00</td>\n",
       "      <td>5.0</td>\n",
       "      <td>1</td>\n",
       "      <td>148.0</td>\n",
       "    </tr>\n",
       "  </tbody>\n",
       "</table>\n",
       "</div>"
      ],
      "text/plain": [
       "                                 id                  name  category  \\\n",
       "0  0c3e3439a8c64ea5bf6ecd6ca6ae19f0                WoWфли      кафе   \n",
       "1  045780ada3474c57a2112e505d74b633        Четыре комнаты  ресторан   \n",
       "2  1070b6b59144425896c65889347fcff6                 Хазри      кафе   \n",
       "3  03ac7cd772104f65b58b349dc59f03ee  Dormouse Coffee Shop   кофейня   \n",
       "4  a163aada139c4c7f87b0b1c0b466a50f             Иль Марко  пиццерия   \n",
       "\n",
       "                               address                         district  \\\n",
       "0           Москва, улица Дыбенко, 7/1  Северный административный округ   \n",
       "1   Москва, улица Дыбенко, 36, корп. 1  Северный административный округ   \n",
       "2       Москва, Клязьминская улица, 15  Северный административный округ   \n",
       "3  Москва, улица Маршала Федоренко, 12  Северный административный округ   \n",
       "4      Москва, Правобережная улица, 1Б  Северный административный округ   \n",
       "\n",
       "                                               hours  rating  chain  seats  \n",
       "0                             ежедневно, 10:00–22:00     5.0      0    NaN  \n",
       "1                             ежедневно, 10:00–22:00     4.5      0    4.0  \n",
       "2  пн-чт 11:00–02:00; пт,сб 11:00–05:00; вс 11:00...     4.6      0   45.0  \n",
       "3                             ежедневно, 09:00–22:00     5.0      0    NaN  \n",
       "4                             ежедневно, 10:00–22:00     5.0      1  148.0  "
      ]
     },
     "metadata": {},
     "output_type": "display_data"
    },
    {
     "name": "stdout",
     "output_type": "stream",
     "text": [
      "<class 'pandas.core.frame.DataFrame'>\n",
      "RangeIndex: 8406 entries, 0 to 8405\n",
      "Data columns (total 9 columns):\n",
      " #   Column    Non-Null Count  Dtype  \n",
      "---  ------    --------------  -----  \n",
      " 0   id        8406 non-null   object \n",
      " 1   name      8406 non-null   object \n",
      " 2   category  8406 non-null   object \n",
      " 3   address   8406 non-null   object \n",
      " 4   district  8406 non-null   object \n",
      " 5   hours     7870 non-null   object \n",
      " 6   rating    8406 non-null   float64\n",
      " 7   chain     8406 non-null   int64  \n",
      " 8   seats     4795 non-null   float64\n",
      "dtypes: float64(2), int64(1), object(6)\n",
      "memory usage: 591.2+ KB\n"
     ]
    },
    {
     "data": {
      "text/plain": [
       "None"
      ]
     },
     "metadata": {},
     "output_type": "display_data"
    }
   ],
   "source": [
    "display(rest_info.head())\n",
    "display(rest_info.info())"
   ]
  },
  {
   "cell_type": "markdown",
   "id": "6f5f5904",
   "metadata": {
    "id": "3593b7d5"
   },
   "source": [
    "8406 строк, 9 столбцов. Объем информации 591.2 Кб, данные соответствуют описанию, \n",
    "явные пропуски отсутствуют во всех столбцах, кроме hours,seats.\n",
    "Типы данных верные,единственное, тип данных столбцов rating,chain можно оптимизировать."
   ]
  },
  {
   "cell_type": "code",
   "execution_count": 4,
   "id": "90fee493",
   "metadata": {
    "id": "90fee493"
   },
   "outputs": [
    {
     "name": "stdout",
     "output_type": "stream",
     "text": [
      "                                 id          price  \\\n",
      "0  045780ada3474c57a2112e505d74b633  выше среднего   \n",
      "1  1070b6b59144425896c65889347fcff6        средние   \n",
      "2  03ac7cd772104f65b58b349dc59f03ee            NaN   \n",
      "3  a163aada139c4c7f87b0b1c0b466a50f        средние   \n",
      "4  8a343546b24e4a499ad96eb7d0797a8a        средние   \n",
      "\n",
      "                        avg_bill  middle_avg_bill  middle_coffee_cup  \n",
      "0       Средний счёт:1500–1600 ₽           1550.0                NaN  \n",
      "1         Средний счёт:от 1000 ₽           1000.0                NaN  \n",
      "2  Цена чашки капучино:155–185 ₽              NaN              170.0  \n",
      "3         Средний счёт:400–600 ₽            500.0                NaN  \n",
      "4                            NaN              NaN                NaN  \n",
      "<class 'pandas.core.frame.DataFrame'>\n",
      "RangeIndex: 4058 entries, 0 to 4057\n",
      "Data columns (total 5 columns):\n",
      " #   Column             Non-Null Count  Dtype  \n",
      "---  ------             --------------  -----  \n",
      " 0   id                 4058 non-null   object \n",
      " 1   price              3315 non-null   object \n",
      " 2   avg_bill           3816 non-null   object \n",
      " 3   middle_avg_bill    3149 non-null   float64\n",
      " 4   middle_coffee_cup  535 non-null    float64\n",
      "dtypes: float64(2), object(3)\n",
      "memory usage: 158.6+ KB\n",
      "None\n"
     ]
    }
   ],
   "source": [
    "print(rest_price.head())\n",
    "print(rest_price.info())"
   ]
  },
  {
   "cell_type": "markdown",
   "id": "9156fc93",
   "metadata": {
    "id": "3593b7d5"
   },
   "source": [
    "4058 строк, 5 столбцов. Объем информации 158.6 Кб, данные соответствуют описанию, \n",
    "явные пропуски есть в столбцах price,avg_bill,middle_avg_bill, middle_coffee_cup. Используются верные типы данных."
   ]
  },
  {
   "cell_type": "markdown",
   "id": "8a8d1491",
   "metadata": {
    "id": "8a8d1491"
   },
   "source": [
    "### Подготовка единого датафрейма\n",
    "\n",
    "- Объедините данные двух датасетов в один, с которым вы и продолжите работу."
   ]
  },
  {
   "cell_type": "code",
   "execution_count": 5,
   "id": "3408e303",
   "metadata": {
    "id": "3408e303"
   },
   "outputs": [
    {
     "name": "stdout",
     "output_type": "stream",
     "text": [
      "<class 'pandas.core.frame.DataFrame'>\n",
      "Int64Index: 8406 entries, 0 to 8405\n",
      "Data columns (total 13 columns):\n",
      " #   Column             Non-Null Count  Dtype  \n",
      "---  ------             --------------  -----  \n",
      " 0   id                 8406 non-null   object \n",
      " 1   name               8406 non-null   object \n",
      " 2   category           8406 non-null   object \n",
      " 3   address            8406 non-null   object \n",
      " 4   district           8406 non-null   object \n",
      " 5   hours              7870 non-null   object \n",
      " 6   rating             8406 non-null   float64\n",
      " 7   chain              8406 non-null   int64  \n",
      " 8   seats              4795 non-null   float64\n",
      " 9   price              3315 non-null   object \n",
      " 10  avg_bill           3816 non-null   object \n",
      " 11  middle_avg_bill    3149 non-null   float64\n",
      " 12  middle_coffee_cup  535 non-null    float64\n",
      "dtypes: float64(4), int64(1), object(8)\n",
      "memory usage: 919.4+ KB\n",
      "None\n"
     ]
    }
   ],
   "source": [
    "data = rest_info.merge(rest_price, on ='id', how = 'left')\n",
    "print(data.info())"
   ]
  },
  {
   "cell_type": "markdown",
   "id": "04296711",
   "metadata": {
    "id": "5695950b"
   },
   "source": [
    "Присоединение сделаем по левой таблице, чтобы не потерять данные.\n",
    "Так как отсутствие ценообразования, не означает, что в округе нет заведения общественного питания. \n",
    "Названия столбцов корректны и удобны для анализа."
   ]
  },
  {
   "cell_type": "markdown",
   "id": "956e82e2",
   "metadata": {
    "id": "956e82e2"
   },
   "source": [
    "## 2. Предобработка данных\n",
    "\n",
    "Подготовьте данные к исследовательскому анализу:\n",
    "\n",
    "- Изучите корректность типов данных и при необходимости проведите их преобразование."
   ]
  },
  {
   "cell_type": "code",
   "execution_count": 6,
   "id": "67956690",
   "metadata": {
    "id": "67956690"
   },
   "outputs": [],
   "source": [
    "data['rating']=pd.to_numeric(data['rating'],downcast='integer')\n",
    "data['chain']=pd.to_numeric(data['chain'],downcast='integer')"
   ]
  },
  {
   "cell_type": "markdown",
   "id": "a2a9818f",
   "metadata": {
    "id": "620d2f08"
   },
   "source": [
    "Столбец rating перевели в целочисленный тип данных."
   ]
  },
  {
   "cell_type": "markdown",
   "id": "4b7ee469",
   "metadata": {
    "id": "4b7ee469"
   },
   "source": [
    "- Изучим пропущенные значения в данных: посчитаем их количество в каждом столбце датафрейме, изучим данные с пропущенными значениями и предположим гипотезы их появления. Проведем обработку пропущенных значений: заменим пропуски на определённое значение, удалим строки с пропусками или оставим их как есть."
   ]
  },
  {
   "cell_type": "code",
   "execution_count": 11,
   "id": "3d8840ca",
   "metadata": {
    "id": "3d8840ca",
    "scrolled": true
   },
   "outputs": [
    {
     "data": {
      "text/plain": [
       "middle_coffee_cup    7871\n",
       "middle_avg_bill      5257\n",
       "price                5091\n",
       "avg_bill             4590\n",
       "seats                3611\n",
       "hours                 536\n",
       "id                      0\n",
       "name                    0\n",
       "category                0\n",
       "address                 0\n",
       "district                0\n",
       "rating                  0\n",
       "chain                   0\n",
       "dtype: int64"
      ]
     },
     "execution_count": 11,
     "metadata": {},
     "output_type": "execute_result"
    }
   ],
   "source": [
    "#Абсолютное количество пропусков\n",
    "data.isna().sum().sort_values(ascending = False)"
   ]
  },
  {
   "cell_type": "code",
   "execution_count": 8,
   "id": "2ea145ca",
   "metadata": {
    "id": "2ea145ca"
   },
   "outputs": [
    {
     "data": {
      "text/plain": [
       "middle_coffee_cup    0.94\n",
       "middle_avg_bill      0.63\n",
       "price                0.61\n",
       "avg_bill             0.55\n",
       "seats                0.43\n",
       "hours                0.06\n",
       "id                   0.00\n",
       "name                 0.00\n",
       "category             0.00\n",
       "address              0.00\n",
       "district             0.00\n",
       "rating               0.00\n",
       "chain                0.00\n",
       "dtype: float64"
      ]
     },
     "execution_count": 8,
     "metadata": {},
     "output_type": "execute_result"
    }
   ],
   "source": [
    "#Относительное количество пропусков\n",
    "round(data.isna().sum()/data.shape[0],2).sort_values(ascending=False)"
   ]
  },
  {
   "cell_type": "markdown",
   "id": "b745614c",
   "metadata": {},
   "source": [
    "Видим,что в столбцах price, avg_bill, middle_avg_bill, seats, middle_coffee_cup критическая доля пропусков.\n",
    "Столбец hours имеет 6% пропусков."
   ]
  },
  {
   "cell_type": "markdown",
   "id": "3fd975d6",
   "metadata": {},
   "source": [
    "Пропуски в столбце hours возможно связаны с тем, что владельцы самостоятельно не указали время работы.\n",
    "Остальные пропуски возможно связаны с тем, что информацию о заведении оставляют обычные пользователи."
   ]
  },
  {
   "cell_type": "markdown",
   "id": "c4d5f04d",
   "metadata": {
    "id": "c4d5f04d"
   },
   "source": [
    "- Проверим данные на явные и неявные дубликаты, например поля с названием и адресом заведения. Для оптимизации проверки нормализуем данные в столбце с названием заведения, так как очень важно проверить не попадалось ли одно и то же заведение несколько раз."
   ]
  },
  {
   "cell_type": "code",
   "execution_count": 9,
   "id": "95b15cd0",
   "metadata": {
    "id": "95b15cd0"
   },
   "outputs": [],
   "source": [
    "#нормализация данных\n",
    "def snake_name(x):\n",
    "    new = x.strip().lower().replace(' ','_')\n",
    "    return new\n",
    "def snake_address(x):\n",
    "    new = x.strip().lower().replace(',','_')\n",
    "    return new\n",
    "data['name']=data['name'].apply(snake_name)\n",
    "data['address']=data['address'].apply(snake_address)"
   ]
  },
  {
   "cell_type": "code",
   "execution_count": 10,
   "id": "795d1701",
   "metadata": {},
   "outputs": [
    {
     "data": {
      "text/plain": [
       "0"
      ]
     },
     "execution_count": 10,
     "metadata": {},
     "output_type": "execute_result"
    }
   ],
   "source": [
    "#Проверка на полные явные дубликаты\n",
    "data.duplicated().sum()"
   ]
  },
  {
   "cell_type": "code",
   "execution_count": 11,
   "id": "646a2412",
   "metadata": {},
   "outputs": [
    {
     "data": {
      "text/plain": [
       "4"
      ]
     },
     "execution_count": 11,
     "metadata": {},
     "output_type": "execute_result"
    }
   ],
   "source": [
    "#Проверка на явные дубликаты\n",
    "data.duplicated(subset = ['name','address']).sum()"
   ]
  },
  {
   "cell_type": "code",
   "execution_count": 12,
   "id": "f92028c9",
   "metadata": {},
   "outputs": [],
   "source": [
    "#Удаляем явные дубликаты\n",
    "data_clean = data.drop_duplicates(subset = ['name','address'])\n",
    "data_clean = data_clean.reset_index(drop=True)\n",
    "data_clean = data_clean.copy()  # Создаём самостоятельную копию"
   ]
  },
  {
   "cell_type": "code",
   "execution_count": 13,
   "id": "45a6336a",
   "metadata": {},
   "outputs": [
    {
     "name": "stdout",
     "output_type": "stream",
     "text": [
      "Уникальные значения в столбце category:\n",
      "['бар,паб' 'булочная' 'быстрое питание' 'кафе' 'кофейня' 'пиццерия'\n",
      " 'ресторан' 'столовая']\n",
      "\n",
      "Уникальные значения в столбце price:\n",
      "['высокие' 'выше среднего' 'низкие' 'средние' nan]\n",
      "\n",
      "Уникальные значения в столбце district:\n",
      "['Восточный административный округ' 'Западный административный округ'\n",
      " 'Северный административный округ'\n",
      " 'Северо-Восточный административный округ'\n",
      " 'Северо-Западный административный округ'\n",
      " 'Центральный административный округ'\n",
      " 'Юго-Восточный административный округ'\n",
      " 'Юго-Западный административный округ' 'Южный административный округ']\n",
      "\n"
     ]
    }
   ],
   "source": [
    "#Проверка на неявные дубликаты. \n",
    "#Для начала проверим корректность написания категориальных значений в данных \n",
    "for column in ['category', 'price','district']:\n",
    "    print(f'Уникальные значения в столбце {column}:')\n",
    "    print(data_clean[column].sort_values().unique())\n",
    "    print() "
   ]
  },
  {
   "cell_type": "code",
   "execution_count": 14,
   "id": "3c2e198a",
   "metadata": {},
   "outputs": [
    {
     "data": {
      "text/plain": [
       "0"
      ]
     },
     "execution_count": 14,
     "metadata": {},
     "output_type": "execute_result"
    }
   ],
   "source": [
    "# Проверяем неявные дубликаты\n",
    "data_clean.duplicated(subset='id').sum()"
   ]
  },
  {
   "cell_type": "markdown",
   "id": "d23a253b",
   "metadata": {},
   "source": [
    "Неявных дубликатов нет"
   ]
  },
  {
   "cell_type": "markdown",
   "id": "4c0563f2",
   "metadata": {
    "id": "4c0563f2"
   },
   "source": [
    "- Для дальнейшей работы создадим столбец `is_24_7` с обозначением того, что заведение работает ежедневно и круглосуточно, то есть 24/7:\n",
    "  - логическое значение `True` — если заведение работает ежедневно и круглосуточно;\n",
    "  - логическое значение `False` — в противоположном случае."
   ]
  },
  {
   "cell_type": "code",
   "execution_count": 15,
   "id": "d8a8a963",
   "metadata": {
    "id": "d8a8a963"
   },
   "outputs": [],
   "source": [
    "def is_24(hours):\n",
    "    return 'ежедневно' in hours.lower() and 'круглосуточно' in hours.lower()\n",
    "data_clean['is_24_7'] = data_clean['hours'].fillna('').apply(is_24)"
   ]
  },
  {
   "cell_type": "code",
   "execution_count": 16,
   "id": "8b968d29",
   "metadata": {},
   "outputs": [
    {
     "name": "stdout",
     "output_type": "stream",
     "text": [
      "0                                  ежедневно, 10:00–22:00\n",
      "1                                  ежедневно, 10:00–22:00\n",
      "2       пн-чт 11:00–02:00; пт,сб 11:00–05:00; вс 11:00...\n",
      "3                                  ежедневно, 09:00–22:00\n",
      "4                                  ежедневно, 10:00–22:00\n",
      "                              ...                        \n",
      "8397                               ежедневно, 09:00–02:00\n",
      "8398                               ежедневно, 08:00–22:00\n",
      "8399                             ежедневно, круглосуточно\n",
      "8400                             ежедневно, круглосуточно\n",
      "8401                             ежедневно, круглосуточно\n",
      "Name: hours, Length: 8402, dtype: object 0       False\n",
      "1       False\n",
      "2       False\n",
      "3       False\n",
      "4       False\n",
      "        ...  \n",
      "8397    False\n",
      "8398    False\n",
      "8399     True\n",
      "8400     True\n",
      "8401     True\n",
      "Name: is_24_7, Length: 8402, dtype: bool\n"
     ]
    }
   ],
   "source": [
    "#Проверка выполнения функции\n",
    "print(data_clean['hours'], data_clean['is_24_7'])"
   ]
  },
  {
   "cell_type": "markdown",
   "id": "562f30ab",
   "metadata": {
    "id": "562f30ab"
   },
   "source": [
    "---\n",
    "\n",
    "### Промежуточный вывод"
   ]
  },
  {
   "cell_type": "markdown",
   "id": "7a4f8b7d",
   "metadata": {
    "id": "4e587ce1"
   },
   "source": [
    "Скорректированы названия заведени и их адресов — их привели к стилю snake case;\n",
    "Изучены пропуски в данных. Критическая доля пропусков обнаружилась в столбцах price, avg_bill, middle_avg_bill, \n",
    "seats, middle_coffee_cup. Учитывая это количество, пропуски могут отражать особенности ввода данных пользователями \n",
    "и не являться ошибкой в данных. Поэтому их оставили как есть.\n",
    "Данные проверили на явные и неявные дубликаты — было найдено 4 дубликата, которые мы удалили."
   ]
  },
  {
   "cell_type": "markdown",
   "id": "6953e84c",
   "metadata": {
    "id": "6953e84c"
   },
   "source": [
    "## 3. Исследовательский анализ данных\n",
    "Проведем исследовательский анализ исходных данных. При исследовании данных будем использовать визуализации."
   ]
  },
  {
   "cell_type": "markdown",
   "id": "8555d840",
   "metadata": {
    "id": "8555d840"
   },
   "source": [
    "---\n",
    "\n",
    "### Задача 1"
   ]
  },
  {
   "cell_type": "code",
   "execution_count": 17,
   "id": "ef2bffe9",
   "metadata": {
    "id": "ef2bffe9"
   },
   "outputs": [
    {
     "data": {
      "image/png": "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\n",
      "text/plain": [
       "<Figure size 432x360 with 1 Axes>"
      ]
     },
     "metadata": {
      "needs_background": "light"
     },
     "output_type": "display_data"
    }
   ],
   "source": [
    "plt.figure(figsize=(6,5))\n",
    "data_clean.groupby('category')['name'].count().sort_values(ascending = False).plot.bar(rot = 45)\n",
    "plt.title('Количество объектов общественного питания по каждой категории')\n",
    "plt.xlabel('Категория')\n",
    "plt.ylabel('Количество объектов')\n",
    "plt.grid(axis = 'y')\n",
    "plt.show()"
   ]
  },
  {
   "cell_type": "markdown",
   "id": "ee242d6d",
   "metadata": {
    "id": "63360b97"
   },
   "source": [
    "В данных представлены такие категории заведений, как кафе, ресторан, кофейня, бар/паб, пиццерия, быстрое питание, столовая и булочная. Исследуйте количество объектов общественного питания по каждой категории. Больше всего заведений типа кафе и ресторан, больше 2000. Меньше всего столовых и булочных."
   ]
  },
  {
   "cell_type": "markdown",
   "id": "6821e1d0",
   "metadata": {
    "id": "6821e1d0"
   },
   "source": [
    "---\n",
    "\n",
    "### Задача 2\n",
    "\n",
    "Выясним какие административные районы Москвы присутствуют в данных. Исследуем распределение количества заведений по административным районам Москвы, а также отдельно распределение заведений каждой категории в Центральном административном округе Москвы."
   ]
  },
  {
   "cell_type": "code",
   "execution_count": 18,
   "id": "c798f9b3",
   "metadata": {
    "scrolled": false
   },
   "outputs": [
    {
     "data": {
      "image/png": "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\n",
      "text/plain": [
       "<Figure size 432x360 with 1 Axes>"
      ]
     },
     "metadata": {
      "needs_background": "light"
     },
     "output_type": "display_data"
    }
   ],
   "source": [
    "plt.figure(figsize=(6,5))\n",
    "data_clean.groupby('district')['name'].count().sort_values().plot.barh()\n",
    "plt.title('Распределение количества заведений по административным районам Москвы')\n",
    "plt.ylabel('Район')\n",
    "plt.xlabel('Количество объектов')\n",
    "plt.grid(axis = 'x')\n",
    "plt.show()"
   ]
  },
  {
   "cell_type": "markdown",
   "id": "d50ee269",
   "metadata": {
    "id": "0a290cd1"
   },
   "source": [
    "Видим, что больше всего заведений в Центральном Административном округе. \n",
    "Остальные округи имеют примерно одинаковое распределение. \n",
    "В Северо-западном административном округе меньше всего."
   ]
  },
  {
   "cell_type": "code",
   "execution_count": 19,
   "id": "3a952689",
   "metadata": {
    "scrolled": false
   },
   "outputs": [
    {
     "data": {
      "image/png": "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\n",
      "text/plain": [
       "<Figure size 432x360 with 1 Axes>"
      ]
     },
     "metadata": {
      "needs_background": "light"
     },
     "output_type": "display_data"
    }
   ],
   "source": [
    "plt.figure(figsize=(6,5))\n",
    "central_data = data_clean[data_clean['district'] == 'Центральный административный округ']\n",
    "central_data.groupby('category')['name'].count().sort_values().plot.bar(rot = 45)\n",
    "plt.title('Распределение заведений каждой категории в Центральном административном округе Москвы')\n",
    "plt.xlabel('Категория')\n",
    "plt.ylabel('Количество объектов')\n",
    "plt.show()"
   ]
  },
  {
   "cell_type": "markdown",
   "id": "8c3afbc1",
   "metadata": {},
   "source": [
    "Больше всего заведений типа ресторан, меньше всего булочных, столовых, пиццерий и заведений быстрого питания."
   ]
  },
  {
   "cell_type": "markdown",
   "id": "7c824f58",
   "metadata": {
    "id": "7c824f58"
   },
   "source": [
    "---\n",
    "\n",
    "### Задача 3\n",
    "\n",
    "Изучим соотношение сетевых и несетевых заведений в целом по всем данным и в разрезе категорий заведения. "
   ]
  },
  {
   "cell_type": "code",
   "execution_count": 20,
   "id": "a139bd72",
   "metadata": {
    "id": "a139bd72"
   },
   "outputs": [
    {
     "data": {
      "image/png": "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\n",
      "text/plain": [
       "<Figure size 720x720 with 1 Axes>"
      ]
     },
     "metadata": {},
     "output_type": "display_data"
    }
   ],
   "source": [
    "plt.figure(figsize=(10,10))\n",
    "category_counts = data_clean.groupby('chain')['name'].count()\n",
    "colors = ['lightblue','orange']\n",
    "plt.pie(category_counts, colors = colors,\n",
    "        labels=category_counts.index,\n",
    "        autopct='%1.1f%%')\n",
    "plt.title('Cоотношение сетевых и несетевых заведений \\n 0 - несетевые, 1 - сетевые')\n",
    "plt.legend()\n",
    "plt.show()"
   ]
  },
  {
   "cell_type": "markdown",
   "id": "85f96288",
   "metadata": {},
   "source": [
    "Несетевых заведений больше в 1.5 раза"
   ]
  },
  {
   "cell_type": "code",
   "execution_count": 21,
   "id": "f0ff545d",
   "metadata": {},
   "outputs": [
    {
     "data": {
      "image/png": "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\n",
      "text/plain": [
       "<Figure size 792x360 with 1 Axes>"
      ]
     },
     "metadata": {
      "needs_background": "light"
     },
     "output_type": "display_data"
    }
   ],
   "source": [
    "grouped = data_clean.groupby('category')['chain'].value_counts(normalize=True).unstack(fill_value=0)*100\n",
    "grouped.plot(kind='bar',\n",
    "               title=f'Распределение сетевых заведений в зависимости от категории',\n",
    "               ylabel='Количество клиентов, %',\n",
    "               xlabel='Тип заведения',\n",
    "               rot=0,\n",
    "               figsize=(11, 5))\n",
    "plt.grid(axis = 'y')\n",
    "plt.legend(labels=['Несетевое (0)', 'Сетевое (1)'])\n",
    "plt.tight_layout()\n",
    "# Выводим график\n",
    "plt.show()"
   ]
  },
  {
   "cell_type": "markdown",
   "id": "4c2489eb",
   "metadata": {},
   "source": [
    "Чаще всего сетевыми являются булочные, пиццерии, кофейни."
   ]
  },
  {
   "cell_type": "markdown",
   "id": "5913c3e3",
   "metadata": {
    "id": "5913c3e3"
   },
   "source": [
    "---\n",
    "\n",
    "### Задача 4\n",
    "\n",
    "Исследуем количество посадочных мест в заведениях. Встречаются ли в данных аномальные значения или выбросы. Приведем для каждой категории заведений наиболее типичное для него количество посадочных мест. "
   ]
  },
  {
   "cell_type": "code",
   "execution_count": 22,
   "id": "6cb238d2",
   "metadata": {
    "id": "6cb238d2"
   },
   "outputs": [
    {
     "data": {
      "image/png": "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\n",
      "text/plain": [
       "<Figure size 1296x432 with 1 Axes>"
      ]
     },
     "metadata": {
      "needs_background": "light"
     },
     "output_type": "display_data"
    }
   ],
   "source": [
    "plt.figure(figsize = (18,6))\n",
    "data_clean.boxplot(column = 'seats', vert = False)\n",
    "plt.title('Количество посадочных мест в заведениях')\n",
    "plt.xlabel('Количество мест')\n",
    "plt.show()"
   ]
  },
  {
   "cell_type": "code",
   "execution_count": 23,
   "id": "062b55d8",
   "metadata": {
    "id": "062b55d8"
   },
   "outputs": [
    {
     "data": {
      "text/plain": [
       "count    4792.000000\n",
       "mean      108.361436\n",
       "std       122.841130\n",
       "min         0.000000\n",
       "25%        40.000000\n",
       "50%        75.000000\n",
       "75%       140.000000\n",
       "max      1288.000000\n",
       "Name: seats, dtype: float64"
      ]
     },
     "execution_count": 23,
     "metadata": {},
     "output_type": "execute_result"
    }
   ],
   "source": [
    "#Получим описание данных о количестве посадочных мест\n",
    "data_clean['seats'].describe()"
   ]
  },
  {
   "cell_type": "markdown",
   "id": "6c2e73f1",
   "metadata": {
    "id": "ceadf25b"
   },
   "source": [
    "Среднее значение и медиана сильно отличаются, это происходит из за выбросов, которых в свою очередь много. Стандартное отклонение также большое, то есть количество мест в зависимости от заведения различается на 123 места."
   ]
  },
  {
   "cell_type": "code",
   "execution_count": 24,
   "id": "b0231587",
   "metadata": {},
   "outputs": [
    {
     "data": {
      "image/png": "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\n",
      "text/plain": [
       "<Figure size 864x432 with 1 Axes>"
      ]
     },
     "metadata": {
      "needs_background": "light"
     },
     "output_type": "display_data"
    }
   ],
   "source": [
    "median_by_category = data_clean.groupby('category')['seats'].median().sort_values(ascending=False)\n",
    "overall_median = data_clean['seats'].median()\n",
    "\n",
    "plt.figure(figsize=(12, 6))\n",
    "median_by_category.plot.bar(rot = 45)\n",
    "\n",
    "# Добавляем горизонтальную линию общего среднего\n",
    "plt.axhline(y=overall_median, color='red', linestyle='--', linewidth=1.5, \n",
    "            label=f'Медиана по всем данным: {overall_median}')\n",
    "\n",
    "plt.title('Медианное количество мест по категориям заведений', fontsize=14, pad=20)\n",
    "plt.xlabel('Категория заведения')\n",
    "plt.ylabel('Медианное количество мест')\n",
    "plt.legend(fontsize=12)\n",
    "\n",
    "plt.show()"
   ]
  },
  {
   "cell_type": "code",
   "execution_count": 25,
   "id": "d97af69a",
   "metadata": {},
   "outputs": [
    {
     "ename": "NameError",
     "evalue": "name 'seat_data' is not defined",
     "output_type": "error",
     "traceback": [
      "\u001b[0;31m---------------------------------------------------------------------------\u001b[0m",
      "\u001b[0;31mNameError\u001b[0m                                 Traceback (most recent call last)",
      "\u001b[0;32m/tmp/ipykernel_48/3491125419.py\u001b[0m in \u001b[0;36m<module>\u001b[0;34m\u001b[0m\n\u001b[1;32m      6\u001b[0m \u001b[0;34m\u001b[0m\u001b[0m\n\u001b[1;32m      7\u001b[0m \u001b[0mtop_cats\u001b[0m \u001b[0;34m=\u001b[0m \u001b[0mstats\u001b[0m\u001b[0;34m.\u001b[0m\u001b[0mindex\u001b[0m\u001b[0;34m\u001b[0m\u001b[0;34m\u001b[0m\u001b[0m\n\u001b[0;32m----> 8\u001b[0;31m sns.boxplot(data=seat_data[seat_data['category'].isin(top_cats)],\n\u001b[0m\u001b[1;32m      9\u001b[0m             \u001b[0mx\u001b[0m\u001b[0;34m=\u001b[0m\u001b[0;34m'seats'\u001b[0m\u001b[0;34m,\u001b[0m \u001b[0my\u001b[0m\u001b[0;34m=\u001b[0m\u001b[0;34m'category'\u001b[0m\u001b[0;34m,\u001b[0m \u001b[0morder\u001b[0m\u001b[0;34m=\u001b[0m\u001b[0mtop_cats\u001b[0m\u001b[0;34m,\u001b[0m\u001b[0;34m\u001b[0m\u001b[0;34m\u001b[0m\u001b[0m\n\u001b[1;32m     10\u001b[0m             showfliers=False)\n",
      "\u001b[0;31mNameError\u001b[0m: name 'seat_data' is not defined"
     ]
    },
    {
     "data": {
      "text/plain": [
       "<Figure size 720x360 with 0 Axes>"
      ]
     },
     "metadata": {},
     "output_type": "display_data"
    }
   ],
   "source": [
    "stats = data_clean.groupby('category')['seats'].agg(\n",
    "    ['median', 'mean', 'count', 'std', 'min', 'max']\n",
    ").sort_values('median', ascending=False)\n",
    "\n",
    "plt.figure(figsize=(10, 5))\n",
    "\n",
    "top_cats = stats.index\n",
    "sns.boxplot(data=seat_data[seat_data['category'].isin(top_cats)],\n",
    "            x='seats', y='category', order=top_cats,\n",
    "            showfliers=False)\n",
    "plt.title('Типичное количество мест для категории заведения', fontsize=14)\n",
    "plt.xlabel('Количество мест', fontsize=12)\n",
    "plt.ylabel('Категория', fontsize=12)\n",
    "plt.grid(axis='x')"
   ]
  },
  {
   "cell_type": "markdown",
   "id": "e52865b1",
   "metadata": {},
   "source": [
    "Видим, что медиана количество мест в среднем примерно от 48 до 90."
   ]
  },
  {
   "cell_type": "markdown",
   "id": "8ed065ea",
   "metadata": {
    "id": "8ed065ea"
   },
   "source": [
    "---\n",
    "\n",
    "### Задача 5\n",
    "\n",
    "Исследуем рейтинг заведений. Визуализируем распределение средних рейтингов по категориям заведений. Сильно ли различаются усреднённые рейтинги для разных типов общепита?"
   ]
  },
  {
   "cell_type": "code",
   "execution_count": null,
   "id": "cc5206f8",
   "metadata": {
    "id": "cc5206f8"
   },
   "outputs": [],
   "source": [
    "rat = data_clean.groupby('category')['rating'].mean().reset_index()\n",
    "plt.figure(figsize=(15, 4))\n",
    "\n",
    "sns.barplot(data=rat.sort_values('rating', ascending=False),\n",
    "            x='category', \n",
    "            y='rating')\n",
    "plt.grid(axis = 'y')\n",
    "plt.title('Рейтинг категорий заведений')\n",
    "plt.xlabel('Категория')\n",
    "plt.ylabel('Рейтинг')"
   ]
  },
  {
   "cell_type": "markdown",
   "id": "b4742533",
   "metadata": {
    "id": "3e0ec5d7"
   },
   "source": [
    "Рейтинги всех заведений не сильно отличаются и больше 4."
   ]
  },
  {
   "cell_type": "markdown",
   "id": "dd9702d9",
   "metadata": {
    "id": "dd9702d9"
   },
   "source": [
    "---\n",
    "\n",
    "### Задача 6\n",
    "\n",
    "Изучим, с какими данными показывают самую сильную корреляцию рейтинги заведений. Построим и визуализирем матрицу корреляции рейтинга заведения с разными данными: его категория, положение (административный район Москвы), статус сетевого заведения, количество мест, ценовая категория и признак, является ли заведения круглосуточным. Выберим самую сильную связь и проверим её."
   ]
  },
  {
   "cell_type": "code",
   "execution_count": null,
   "id": "15400eb9",
   "metadata": {
    "id": "15400eb9"
   },
   "outputs": [],
   "source": [
    "# Вычисляем корреляционную матрицу с использованием phi_k\n",
    "correlation_matrix = data_clean[['category', 'district', 'chain', 'seats', 'price',\n",
    "                         'is_24_7','rating']].phik_matrix()\n",
    "# Выводим результат\n",
    "print(correlation_matrix.loc[correlation_matrix.index != 'rating'][['rating']].sort_values(by='rating', ascending=False))"
   ]
  },
  {
   "cell_type": "code",
   "execution_count": null,
   "id": "71b5856f",
   "metadata": {},
   "outputs": [],
   "source": [
    "correlation_matrix.loc[correlation_matrix.index != 'rating'][['rating']].sort_values(by='rating', ascending=False)\n",
    "# Строим тепловую карту\n",
    "plt.figure(figsize=(4, 6))\n",
    "\n",
    "# Сохраняем матрицу корреляции признака churn с другими признаками клиента\n",
    "data_heatmap = correlation_matrix.loc[correlation_matrix.index != 'rating'][['rating']].sort_values(by='rating', ascending=False)\n",
    "sns.heatmap(data_heatmap,\n",
    "            annot=True, \n",
    "            fmt='.2f',\n",
    "            cmap='coolwarm',\n",
    "            linewidths=0.5,\n",
    "            cbar=False\n",
    "           )\n",
    "\n",
    "plt.title('Тепловая карта коэффициента phi_k \\n для данных rating')\n",
    "plt.xlabel('Отток клиента')\n",
    "plt.show()"
   ]
  },
  {
   "cell_type": "markdown",
   "id": "b8edc94d",
   "metadata": {
    "id": "8f0379af"
   },
   "source": [
    "Самая сильная связь с ценой."
   ]
  },
  {
   "cell_type": "code",
   "execution_count": null,
   "id": "cb7ad526",
   "metadata": {},
   "outputs": [],
   "source": [
    "price_category = ['низкие', 'средние', 'выше среднего', 'высокие']\n",
    "x = data_clean.groupby('price')['rating'].mean().reindex(price_category)\n",
    "diagram = x.plot.line()\n",
    "plt.xlabel('Ценовая категория')\n",
    "plt.ylabel('Рейтинг')"
   ]
  },
  {
   "cell_type": "markdown",
   "id": "663f21cd",
   "metadata": {},
   "source": [
    "По графику видно, что чем выше цена, тем больше рейтинг."
   ]
  },
  {
   "cell_type": "markdown",
   "id": "370de703",
   "metadata": {
    "id": "370de703"
   },
   "source": [
    "---\n",
    "\n",
    "### Задача 7\n",
    "\n",
    "Сгруппируем данные по названиям заведений и найдем топ-15 популярных сетей в Москве. Для них посчитаем значения среднего рейтинга. Под популярностью понимается количество заведений этой сети в регионе."
   ]
  },
  {
   "cell_type": "code",
   "execution_count": null,
   "id": "5d828a9a",
   "metadata": {
    "id": "5d828a9a"
   },
   "outputs": [],
   "source": [
    "chain_comp = data_clean[data_clean['chain']==1]\n",
    "name_group = chain_comp.groupby(['name','category']).agg({'id':'count',\n",
    "                                            'rating':'mean'}).sort_values(by = 'id'  ,ascending = False)\n",
    "df = name_group[:15]\n",
    "display(df)"
   ]
  },
  {
   "cell_type": "code",
   "execution_count": null,
   "id": "d013c598",
   "metadata": {
    "id": "d013c598"
   },
   "outputs": [],
   "source": [
    "plt.figure(figsize = (12,5))\n",
    "df['id'].plot.barh()\n",
    "plt.title('Топ-15 популярных сетей в Москве')\n",
    "plt.ylabel('Заведение')\n",
    "plt.grid(axis = 'x')\n",
    "plt.xlabel('Количество заведений')\n",
    "plt.show()"
   ]
  },
  {
   "cell_type": "code",
   "execution_count": null,
   "id": "d2093c4e",
   "metadata": {},
   "outputs": [],
   "source": [
    "plt.figure(figsize = (12,5))\n",
    "df['rating'].sort_values(ascending = False).plot.barh()\n",
    "plt.title('Топ-15 популярных сетей в Москве')\n",
    "plt.ylabel('Заведение')\n",
    "plt.xlabel('Рейтинг')\n",
    "plt.grid(axis = 'x')\n",
    "plt.show()"
   ]
  },
  {
   "cell_type": "markdown",
   "id": "6a0d8c30",
   "metadata": {},
   "source": [
    "Популярность заведения не влияет на рейтинг, поэтому лучше всех оценили заведение Кофемания, но чаще люди посещают Шоколадницу. Оба заведения являются кофейнями."
   ]
  },
  {
   "cell_type": "markdown",
   "id": "85a90a94",
   "metadata": {
    "id": "85a90a94"
   },
   "source": [
    "---\n",
    "\n",
    "### Задача 8\n",
    "\n",
    "Изучим вариацию среднего чека заведения (столбец `middle_avg_bill`) в зависимости от района Москвы. Проанализируем цены в Центральном административном округе и других. Как удалённость от центра влияет на цены в заведениях. "
   ]
  },
  {
   "cell_type": "code",
   "execution_count": null,
   "id": "5fb4ffc6",
   "metadata": {
    "id": "5fb4ffc6"
   },
   "outputs": [],
   "source": [
    "# Рассчитываем медианные значения\n",
    "median_by_district = data_clean.groupby('district')['middle_avg_bill'].median().sort_values(ascending=False)\n",
    "overall_median = data_clean['middle_avg_bill'].median()\n",
    "\n",
    "colors = ['pink' if 'Центральный' in district else 'lightblue' for district in median_by_district.index]\n",
    "\n",
    "plt.figure(figsize=(12, 8))\n",
    "\n",
    "median_by_district.plot.barh(color=colors)\n",
    "\n",
    "# Линия общей медианы\n",
    "plt.axvline(x=overall_median, color='red', linestyle='--', linewidth=1.5, \n",
    "            label=f'Общая медиана: {overall_median:.1f} руб.')\n",
    "\n",
    "# Настройки оформления\n",
    "plt.title('Медианный средний чек по районам Москвы')\n",
    "plt.xlabel('Средний чек, руб.')\n",
    "plt.ylabel('Район')\n",
    "plt.legend()\n",
    "\n",
    "plt.grid(axis='x')\n",
    "plt.show()"
   ]
  },
  {
   "cell_type": "markdown",
   "id": "6957b701",
   "metadata": {},
   "source": [
    "Медианный средний чек превышают два округа: Центральный и Западный. Чем ближе к центру, тем дороже средний чек в заведениях."
   ]
  },
  {
   "cell_type": "markdown",
   "id": "f2c54e9a",
   "metadata": {
    "id": "f2c54e9a"
   },
   "source": [
    "---\n",
    "\n",
    "### Промежуточный вывод\n",
    "\n",
    "Обобщите полученные результаты, выделив, по вашему мнению, самые важные."
   ]
  },
  {
   "cell_type": "markdown",
   "id": "67556c66",
   "metadata": {
    "id": "8bc2e63d"
   },
   "source": [
    "Кафе и рестораны составляют более 50% всех заведений. Наименьшее представительство у булочных, столовых и пиццерий — потенциально свободные ниши.\n",
    "\n",
    "Центральный административный округ (ЦАО) — лидер по количеству заведений (в 2–3 раза больше, чем в других округах).\n",
    "\n",
    "В ЦАО преобладают рестораны (35% от общего числа), что указывает на высокую конкуренцию.\n",
    "\n",
    "Независимые заведения чаще встречаются в нишевых категориях (пекарни, бары).\n",
    "\n",
    "Средний размер заведения: 48–90 мест.\n",
    "\n",
    "Есть выбросы (некоторые заведения имеют 500+ мест), что может указывать на крупные рестораны или банкетные залы.\n",
    "\n",
    "Наибольшая корреляция рейтинга с ценовой категорией: более дорогие заведения получают более высокие оценки.\n",
    "\n",
    "В ЦАО средний чек на 30–40% выше, чем в других округах."
   ]
  },
  {
   "cell_type": "markdown",
   "id": "480f3422",
   "metadata": {
    "id": "480f3422"
   },
   "source": [
    "## 4. Итоговый вывод и рекомендации\n",
    "\n",
    "По результатам проведённого исследовательского анализа данных сформулируем итоговый вывод и рекомендации для заказчика.\n",
    "- Кафе и рестораны составляют более 50% всех заведений (свыше 2000 объектов)\n",
    "Центральный административный округ лидирует по количеству заведений (в 2-3 раза больше, чем в других округах)\n",
    "В ЦАО преобладают рестораны (35% от всех заведений округа)\n",
    "Сетевые заведения преобладают над несетевыми. Наиболее \"сетевизированные\" категории: кафе, рестораны и кофейни\n",
    "Среднее количество мест варьируется от 48 до 90 в зависимости от категории. Оптимальный размер - 50-80 посадочных мест. Средние рейтинги высокие (>4.0 по всем категориям). Наибольшая корреляция рейтинга с ценовой категорией.\n",
    "В ЦАО средний чек на 30-40% выше, чем в других округах. Нужно сделать упор на качество обслуживания при умеренных ценах.\n",
    "\n",
    "Рекомендации для открытия нового заведения:\n",
    "- Несетевая кофейня с собственной выпечкой (низкая конкуренция в сегменте)\n",
    "- Локация: Северо-Восточный или Юго-Западный округ (баланс трафика и арендной платы)\n",
    "- Ценообразование: Средний чек 500-700 рублей (ниже ЦАО, но выше среднего по округу)\n",
    "- Дополнительные возможности: Круглосуточный формат (только 7% заведений работают 24/7). Акцент на завтраки и бизнес-ланчи (недостаточное предложение в нецентральных районах)\n",
    "\n"
   ]
  }
 ],
 "metadata": {
  "ExecuteTimeLog": [
   {
    "duration": 66,
    "start_time": "2025-06-12T13:58:56.245Z"
   },
   {
    "duration": 450,
    "start_time": "2025-06-12T13:58:59.946Z"
   },
   {
    "duration": 85,
    "start_time": "2025-06-12T13:59:00.492Z"
   },
   {
    "duration": 32,
    "start_time": "2025-06-12T14:01:32.144Z"
   },
   {
    "duration": 96,
    "start_time": "2025-06-12T14:01:46.690Z"
   },
   {
    "duration": 18,
    "start_time": "2025-06-12T14:01:47.295Z"
   },
   {
    "duration": 24,
    "start_time": "2025-06-12T14:02:31.462Z"
   },
   {
    "duration": 19,
    "start_time": "2025-06-12T14:03:45.296Z"
   },
   {
    "duration": 17,
    "start_time": "2025-06-12T14:03:45.961Z"
   },
   {
    "duration": 29,
    "start_time": "2025-06-12T14:50:34.216Z"
   },
   {
    "duration": 35,
    "start_time": "2025-06-12T15:03:58.236Z"
   },
   {
    "duration": 24,
    "start_time": "2025-06-12T15:05:05.290Z"
   },
   {
    "duration": 49,
    "start_time": "2025-06-13T20:16:21.087Z"
   },
   {
    "duration": 1446,
    "start_time": "2025-06-13T20:20:31.751Z"
   },
   {
    "duration": 1,
    "start_time": "2025-06-13T20:20:33.198Z"
   },
   {
    "duration": 0,
    "start_time": "2025-06-13T20:20:33.200Z"
   },
   {
    "duration": 12,
    "start_time": "2025-06-13T20:20:33.969Z"
   },
   {
    "duration": 9,
    "start_time": "2025-06-13T20:20:44.052Z"
   },
   {
    "duration": 3,
    "start_time": "2025-06-13T20:20:53.185Z"
   },
   {
    "duration": 91,
    "start_time": "2025-06-13T20:20:54.718Z"
   },
   {
    "duration": 19,
    "start_time": "2025-06-13T20:20:55.318Z"
   },
   {
    "duration": 12,
    "start_time": "2025-06-13T20:20:56.899Z"
   },
   {
    "duration": 21,
    "start_time": "2025-06-13T20:20:58.783Z"
   },
   {
    "duration": 6,
    "start_time": "2025-06-13T20:28:16.799Z"
   },
   {
    "duration": 12,
    "start_time": "2025-06-13T20:28:31.578Z"
   },
   {
    "duration": 15,
    "start_time": "2025-06-13T20:30:40.329Z"
   },
   {
    "duration": 10,
    "start_time": "2025-06-13T20:30:49.212Z"
   },
   {
    "duration": 10,
    "start_time": "2025-06-13T20:30:51.329Z"
   },
   {
    "duration": 11,
    "start_time": "2025-06-13T20:31:01.181Z"
   },
   {
    "duration": 13,
    "start_time": "2025-06-13T20:31:55.965Z"
   },
   {
    "duration": 11,
    "start_time": "2025-06-13T20:31:56.676Z"
   },
   {
    "duration": 11,
    "start_time": "2025-06-13T20:32:31.447Z"
   },
   {
    "duration": 56,
    "start_time": "2025-06-13T20:43:39.727Z"
   },
   {
    "duration": 10,
    "start_time": "2025-06-13T20:49:10.875Z"
   },
   {
    "duration": 12,
    "start_time": "2025-06-13T20:49:19.871Z"
   },
   {
    "duration": 21,
    "start_time": "2025-06-13T20:49:35.076Z"
   },
   {
    "duration": 4,
    "start_time": "2025-06-13T20:49:36.842Z"
   },
   {
    "duration": 9,
    "start_time": "2025-06-13T20:49:38.271Z"
   },
   {
    "duration": 9,
    "start_time": "2025-06-13T20:49:38.739Z"
   },
   {
    "duration": 9,
    "start_time": "2025-06-13T20:49:41.108Z"
   },
   {
    "duration": 10,
    "start_time": "2025-06-13T20:49:46.522Z"
   },
   {
    "duration": 10,
    "start_time": "2025-06-13T20:49:53.209Z"
   },
   {
    "duration": 3,
    "start_time": "2025-06-13T20:52:11.797Z"
   },
   {
    "duration": 10,
    "start_time": "2025-06-13T20:52:22.574Z"
   },
   {
    "duration": 10,
    "start_time": "2025-06-13T20:52:23.538Z"
   },
   {
    "duration": 8,
    "start_time": "2025-06-13T20:52:28.647Z"
   },
   {
    "duration": 5,
    "start_time": "2025-06-13T20:52:39.791Z"
   },
   {
    "duration": 7,
    "start_time": "2025-06-13T20:54:07.720Z"
   },
   {
    "duration": 46,
    "start_time": "2025-06-13T20:54:28.051Z"
   },
   {
    "duration": 5,
    "start_time": "2025-06-13T20:54:46.114Z"
   },
   {
    "duration": 9,
    "start_time": "2025-06-13T20:54:56.575Z"
   },
   {
    "duration": 5,
    "start_time": "2025-06-13T20:55:01.265Z"
   },
   {
    "duration": 8,
    "start_time": "2025-06-13T20:55:05.590Z"
   },
   {
    "duration": 5,
    "start_time": "2025-06-13T20:55:37.319Z"
   },
   {
    "duration": 9,
    "start_time": "2025-06-13T20:57:58.729Z"
   },
   {
    "duration": 6,
    "start_time": "2025-06-13T20:58:06.092Z"
   },
   {
    "duration": 6,
    "start_time": "2025-06-13T20:58:12.218Z"
   },
   {
    "duration": 15,
    "start_time": "2025-06-13T20:58:25.666Z"
   },
   {
    "duration": 13,
    "start_time": "2025-06-13T20:58:37.709Z"
   },
   {
    "duration": 13,
    "start_time": "2025-06-13T20:58:38.082Z"
   },
   {
    "duration": 12,
    "start_time": "2025-06-13T20:58:38.383Z"
   },
   {
    "duration": 13,
    "start_time": "2025-06-13T20:58:38.641Z"
   },
   {
    "duration": 14,
    "start_time": "2025-06-13T20:58:38.858Z"
   },
   {
    "duration": 13,
    "start_time": "2025-06-13T20:58:48.356Z"
   },
   {
    "duration": 5,
    "start_time": "2025-06-13T20:59:03.955Z"
   },
   {
    "duration": 14,
    "start_time": "2025-06-13T20:59:33.923Z"
   },
   {
    "duration": 5,
    "start_time": "2025-06-13T20:59:35.305Z"
   },
   {
    "duration": 16,
    "start_time": "2025-06-13T21:01:31.979Z"
   },
   {
    "duration": 6,
    "start_time": "2025-06-13T21:01:41.934Z"
   },
   {
    "duration": 17,
    "start_time": "2025-06-13T21:02:21.359Z"
   },
   {
    "duration": 5,
    "start_time": "2025-06-13T21:02:22.759Z"
   },
   {
    "duration": 15,
    "start_time": "2025-06-13T21:02:37.321Z"
   },
   {
    "duration": 6,
    "start_time": "2025-06-13T21:02:38.547Z"
   },
   {
    "duration": 18,
    "start_time": "2025-06-13T21:02:51.778Z"
   },
   {
    "duration": 16,
    "start_time": "2025-06-13T21:02:52.282Z"
   },
   {
    "duration": 5,
    "start_time": "2025-06-13T21:02:53.677Z"
   },
   {
    "duration": 9,
    "start_time": "2025-06-13T21:05:00.270Z"
   },
   {
    "duration": 18,
    "start_time": "2025-06-13T21:05:20.521Z"
   },
   {
    "duration": 14,
    "start_time": "2025-06-13T21:05:26.702Z"
   },
   {
    "duration": 26,
    "start_time": "2025-06-13T21:05:55.413Z"
   },
   {
    "duration": 15,
    "start_time": "2025-06-13T21:06:04.468Z"
   },
   {
    "duration": 14,
    "start_time": "2025-06-13T21:06:59.980Z"
   },
   {
    "duration": 14,
    "start_time": "2025-06-13T21:07:00.632Z"
   },
   {
    "duration": 14,
    "start_time": "2025-06-13T21:07:00.964Z"
   },
   {
    "duration": 15,
    "start_time": "2025-06-13T21:07:01.195Z"
   },
   {
    "duration": 13,
    "start_time": "2025-06-13T21:07:01.407Z"
   },
   {
    "duration": 8,
    "start_time": "2025-06-13T21:07:32.059Z"
   },
   {
    "duration": 15,
    "start_time": "2025-06-13T21:07:42.298Z"
   },
   {
    "duration": 9,
    "start_time": "2025-06-13T21:09:32.047Z"
   },
   {
    "duration": 6,
    "start_time": "2025-06-13T21:11:33.019Z"
   },
   {
    "duration": 17,
    "start_time": "2025-06-13T21:15:27.650Z"
   },
   {
    "duration": 17,
    "start_time": "2025-06-13T21:15:58.909Z"
   },
   {
    "duration": 6,
    "start_time": "2025-06-13T21:17:18.886Z"
   },
   {
    "duration": 1215,
    "start_time": "2025-06-13T21:23:21.825Z"
   },
   {
    "duration": 1192,
    "start_time": "2025-06-13T21:24:51.538Z"
   },
   {
    "duration": 297,
    "start_time": "2025-06-13T21:25:20.210Z"
   },
   {
    "duration": 317,
    "start_time": "2025-06-13T21:25:45.979Z"
   },
   {
    "duration": 398,
    "start_time": "2025-06-13T21:25:59.912Z"
   },
   {
    "duration": 295,
    "start_time": "2025-06-13T21:26:01.787Z"
   },
   {
    "duration": 290,
    "start_time": "2025-06-13T21:26:34.054Z"
   },
   {
    "duration": 292,
    "start_time": "2025-06-13T21:29:25.021Z"
   },
   {
    "duration": 10,
    "start_time": "2025-06-13T21:30:27.101Z"
   },
   {
    "duration": 8,
    "start_time": "2025-06-13T21:31:21.651Z"
   },
   {
    "duration": 9,
    "start_time": "2025-06-13T21:32:09.322Z"
   },
   {
    "duration": 1112,
    "start_time": "2025-06-13T21:32:15.053Z"
   },
   {
    "duration": 77,
    "start_time": "2025-06-13T21:32:16.167Z"
   },
   {
    "duration": 18,
    "start_time": "2025-06-13T21:32:16.245Z"
   },
   {
    "duration": 15,
    "start_time": "2025-06-13T21:32:16.264Z"
   },
   {
    "duration": 23,
    "start_time": "2025-06-13T21:32:16.281Z"
   },
   {
    "duration": 5,
    "start_time": "2025-06-13T21:32:16.305Z"
   },
   {
    "duration": 35,
    "start_time": "2025-06-13T21:32:16.311Z"
   },
   {
    "duration": 78,
    "start_time": "2025-06-13T21:32:16.347Z"
   },
   {
    "duration": 14,
    "start_time": "2025-06-13T21:32:16.427Z"
   },
   {
    "duration": 20,
    "start_time": "2025-06-13T21:32:16.443Z"
   },
   {
    "duration": 6,
    "start_time": "2025-06-13T21:32:16.465Z"
   },
   {
    "duration": 12,
    "start_time": "2025-06-13T21:32:16.473Z"
   },
   {
    "duration": 16,
    "start_time": "2025-06-13T21:32:16.486Z"
   },
   {
    "duration": 5,
    "start_time": "2025-06-13T21:32:16.504Z"
   },
   {
    "duration": 11,
    "start_time": "2025-06-13T21:32:16.510Z"
   },
   {
    "duration": 9,
    "start_time": "2025-06-13T21:32:39.314Z"
   },
   {
    "duration": 10,
    "start_time": "2025-06-13T21:32:53.705Z"
   },
   {
    "duration": 10,
    "start_time": "2025-06-13T21:32:54.117Z"
   },
   {
    "duration": 9,
    "start_time": "2025-06-13T21:32:54.332Z"
   },
   {
    "duration": 9,
    "start_time": "2025-06-13T21:32:54.489Z"
   },
   {
    "duration": 11,
    "start_time": "2025-06-13T21:32:54.680Z"
   },
   {
    "duration": 10,
    "start_time": "2025-06-13T21:32:54.928Z"
   },
   {
    "duration": 9,
    "start_time": "2025-06-13T21:32:56.420Z"
   },
   {
    "duration": 12,
    "start_time": "2025-06-13T21:32:56.692Z"
   },
   {
    "duration": 10,
    "start_time": "2025-06-13T21:32:56.899Z"
   },
   {
    "duration": 10,
    "start_time": "2025-06-13T21:34:07.295Z"
   },
   {
    "duration": 10,
    "start_time": "2025-06-13T21:34:07.658Z"
   },
   {
    "duration": 9,
    "start_time": "2025-06-13T21:34:07.843Z"
   },
   {
    "duration": 65,
    "start_time": "2025-06-13T21:34:13.861Z"
   },
   {
    "duration": 50,
    "start_time": "2025-06-13T21:34:36.904Z"
   },
   {
    "duration": 10,
    "start_time": "2025-06-13T21:34:39.776Z"
   },
   {
    "duration": 10,
    "start_time": "2025-06-13T21:34:52.571Z"
   },
   {
    "duration": 10,
    "start_time": "2025-06-13T21:34:52.907Z"
   },
   {
    "duration": 10,
    "start_time": "2025-06-13T21:34:53.156Z"
   },
   {
    "duration": 10,
    "start_time": "2025-06-13T21:34:53.376Z"
   },
   {
    "duration": 9,
    "start_time": "2025-06-13T21:34:53.541Z"
   },
   {
    "duration": 10,
    "start_time": "2025-06-13T21:35:00.545Z"
   },
   {
    "duration": 10,
    "start_time": "2025-06-13T21:35:00.956Z"
   },
   {
    "duration": 10,
    "start_time": "2025-06-13T21:35:01.475Z"
   },
   {
    "duration": 10,
    "start_time": "2025-06-13T21:35:02.303Z"
   },
   {
    "duration": 8,
    "start_time": "2025-06-13T21:35:36.842Z"
   },
   {
    "duration": 10,
    "start_time": "2025-06-13T21:35:53.393Z"
   },
   {
    "duration": 10,
    "start_time": "2025-06-13T21:35:53.959Z"
   },
   {
    "duration": 11,
    "start_time": "2025-06-13T21:35:54.182Z"
   },
   {
    "duration": 11,
    "start_time": "2025-06-13T21:35:54.343Z"
   },
   {
    "duration": 10,
    "start_time": "2025-06-13T21:35:54.509Z"
   },
   {
    "duration": 11,
    "start_time": "2025-06-13T21:35:54.675Z"
   },
   {
    "duration": 9,
    "start_time": "2025-06-13T21:36:12.692Z"
   },
   {
    "duration": 9,
    "start_time": "2025-06-13T21:36:13.286Z"
   },
   {
    "duration": 9,
    "start_time": "2025-06-13T21:36:28.099Z"
   },
   {
    "duration": 10,
    "start_time": "2025-06-13T21:36:28.546Z"
   },
   {
    "duration": 9,
    "start_time": "2025-06-13T21:36:28.778Z"
   },
   {
    "duration": 8,
    "start_time": "2025-06-13T21:37:06.614Z"
   },
   {
    "duration": 8,
    "start_time": "2025-06-13T21:37:06.990Z"
   },
   {
    "duration": 8,
    "start_time": "2025-06-13T21:37:07.192Z"
   },
   {
    "duration": 8,
    "start_time": "2025-06-13T21:37:07.357Z"
   },
   {
    "duration": 50,
    "start_time": "2025-06-13T21:38:19.076Z"
   },
   {
    "duration": 374,
    "start_time": "2025-06-13T21:38:21.713Z"
   },
   {
    "duration": 597,
    "start_time": "2025-06-13T21:38:35.940Z"
   },
   {
    "duration": 305,
    "start_time": "2025-06-13T21:38:59.224Z"
   },
   {
    "duration": 7,
    "start_time": "2025-06-13T21:39:50.160Z"
   },
   {
    "duration": 7,
    "start_time": "2025-06-13T21:39:50.871Z"
   },
   {
    "duration": 57,
    "start_time": "2025-06-13T21:40:16.774Z"
   },
   {
    "duration": 7,
    "start_time": "2025-06-13T21:40:21.314Z"
   },
   {
    "duration": 10,
    "start_time": "2025-06-13T21:40:55.257Z"
   },
   {
    "duration": 10,
    "start_time": "2025-06-13T21:40:55.747Z"
   },
   {
    "duration": 10,
    "start_time": "2025-06-13T21:41:12.293Z"
   },
   {
    "duration": 13,
    "start_time": "2025-06-13T21:41:12.663Z"
   },
   {
    "duration": 27,
    "start_time": "2025-06-13T21:42:00.708Z"
   },
   {
    "duration": 12,
    "start_time": "2025-06-13T21:42:04.400Z"
   },
   {
    "duration": 10,
    "start_time": "2025-06-13T21:42:04.981Z"
   },
   {
    "duration": 10,
    "start_time": "2025-06-13T21:42:17.505Z"
   },
   {
    "duration": 10,
    "start_time": "2025-06-13T21:42:19.981Z"
   },
   {
    "duration": 9,
    "start_time": "2025-06-13T21:42:20.574Z"
   },
   {
    "duration": 6,
    "start_time": "2025-06-13T21:43:51.972Z"
   },
   {
    "duration": 17,
    "start_time": "2025-06-13T21:46:32.915Z"
   },
   {
    "duration": 22,
    "start_time": "2025-06-13T21:46:38.482Z"
   },
   {
    "duration": 14,
    "start_time": "2025-06-13T21:46:43.871Z"
   },
   {
    "duration": 10,
    "start_time": "2025-06-13T21:46:51.387Z"
   },
   {
    "duration": 10,
    "start_time": "2025-06-13T21:46:56.296Z"
   },
   {
    "duration": 6,
    "start_time": "2025-06-13T21:46:57.402Z"
   },
   {
    "duration": 8,
    "start_time": "2025-06-13T21:49:18.492Z"
   },
   {
    "duration": 9,
    "start_time": "2025-06-13T21:56:11.156Z"
   },
   {
    "duration": 9,
    "start_time": "2025-06-13T21:56:39.711Z"
   },
   {
    "duration": 9,
    "start_time": "2025-06-13T21:56:40.222Z"
   },
   {
    "duration": 9,
    "start_time": "2025-06-13T21:56:40.555Z"
   },
   {
    "duration": 8,
    "start_time": "2025-06-13T21:56:40.783Z"
   },
   {
    "duration": 9,
    "start_time": "2025-06-13T21:56:41.004Z"
   },
   {
    "duration": 10,
    "start_time": "2025-06-13T21:56:41.218Z"
   },
   {
    "duration": 9,
    "start_time": "2025-06-13T21:57:14.288Z"
   },
   {
    "duration": 146,
    "start_time": "2025-06-13T21:58:24.685Z"
   },
   {
    "duration": 134,
    "start_time": "2025-06-13T21:58:58.873Z"
   },
   {
    "duration": 133,
    "start_time": "2025-06-13T21:59:48.238Z"
   },
   {
    "duration": 175,
    "start_time": "2025-06-13T22:00:07.406Z"
   },
   {
    "duration": 150,
    "start_time": "2025-06-13T22:00:14.902Z"
   },
   {
    "duration": 146,
    "start_time": "2025-06-13T22:00:17.987Z"
   },
   {
    "duration": 135,
    "start_time": "2025-06-13T22:00:20.637Z"
   },
   {
    "duration": 140,
    "start_time": "2025-06-13T22:00:26.780Z"
   },
   {
    "duration": 14,
    "start_time": "2025-06-13T22:03:33.559Z"
   },
   {
    "duration": 160,
    "start_time": "2025-06-13T22:03:41.666Z"
   },
   {
    "duration": 260,
    "start_time": "2025-06-13T22:04:15.884Z"
   },
   {
    "duration": 69,
    "start_time": "2025-06-13T22:06:23.365Z"
   },
   {
    "duration": 215,
    "start_time": "2025-06-13T22:07:19.801Z"
   },
   {
    "duration": 1187,
    "start_time": "2025-06-13T22:07:31.961Z"
   },
   {
    "duration": 84,
    "start_time": "2025-06-13T22:07:33.150Z"
   },
   {
    "duration": 21,
    "start_time": "2025-06-13T22:07:33.236Z"
   },
   {
    "duration": 19,
    "start_time": "2025-06-13T22:07:33.259Z"
   },
   {
    "duration": 121,
    "start_time": "2025-06-13T22:07:33.281Z"
   },
   {
    "duration": 7,
    "start_time": "2025-06-13T22:07:33.404Z"
   },
   {
    "duration": 20,
    "start_time": "2025-06-13T22:07:33.413Z"
   },
   {
    "duration": 14,
    "start_time": "2025-06-13T22:07:33.435Z"
   },
   {
    "duration": 55,
    "start_time": "2025-06-13T22:07:33.450Z"
   },
   {
    "duration": 50,
    "start_time": "2025-06-13T22:07:33.507Z"
   },
   {
    "duration": 14,
    "start_time": "2025-06-13T22:07:33.559Z"
   },
   {
    "duration": 18,
    "start_time": "2025-06-13T22:07:33.575Z"
   },
   {
    "duration": 20,
    "start_time": "2025-06-13T22:07:33.594Z"
   },
   {
    "duration": 19,
    "start_time": "2025-06-13T22:07:33.617Z"
   },
   {
    "duration": 19,
    "start_time": "2025-06-13T22:07:33.638Z"
   },
   {
    "duration": 46,
    "start_time": "2025-06-13T22:07:33.659Z"
   },
   {
    "duration": 59,
    "start_time": "2025-06-13T22:07:33.707Z"
   },
   {
    "duration": 0,
    "start_time": "2025-06-13T22:07:33.768Z"
   },
   {
    "duration": 0,
    "start_time": "2025-06-13T22:07:33.769Z"
   },
   {
    "duration": 213,
    "start_time": "2025-06-13T22:07:36.121Z"
   },
   {
    "duration": 202,
    "start_time": "2025-06-13T22:07:40.930Z"
   },
   {
    "duration": 226,
    "start_time": "2025-06-13T22:07:43.767Z"
   },
   {
    "duration": 145,
    "start_time": "2025-06-13T22:07:48.103Z"
   },
   {
    "duration": 186,
    "start_time": "2025-06-13T22:07:55.078Z"
   },
   {
    "duration": 187,
    "start_time": "2025-06-13T22:08:02.752Z"
   },
   {
    "duration": 194,
    "start_time": "2025-06-13T22:08:07.171Z"
   },
   {
    "duration": 199,
    "start_time": "2025-06-13T22:08:25.149Z"
   },
   {
    "duration": 100,
    "start_time": "2025-06-13T22:09:18.900Z"
   },
   {
    "duration": 12,
    "start_time": "2025-06-13T22:09:25.691Z"
   },
   {
    "duration": 12,
    "start_time": "2025-06-13T22:09:26.291Z"
   },
   {
    "duration": 12,
    "start_time": "2025-06-13T22:09:26.481Z"
   },
   {
    "duration": 137,
    "start_time": "2025-06-13T22:09:35.655Z"
   },
   {
    "duration": 55,
    "start_time": "2025-06-13T22:10:37.132Z"
   },
   {
    "duration": 162,
    "start_time": "2025-06-13T22:11:41.851Z"
   },
   {
    "duration": 167,
    "start_time": "2025-06-13T22:12:22.698Z"
   },
   {
    "duration": 157,
    "start_time": "2025-06-13T22:15:33.076Z"
   },
   {
    "duration": 52,
    "start_time": "2025-06-14T00:33:46.950Z"
   },
   {
    "duration": 1422,
    "start_time": "2025-06-14T00:33:54.704Z"
   },
   {
    "duration": 100,
    "start_time": "2025-06-14T00:33:56.129Z"
   },
   {
    "duration": 21,
    "start_time": "2025-06-14T00:33:56.231Z"
   },
   {
    "duration": 18,
    "start_time": "2025-06-14T00:33:56.253Z"
   },
   {
    "duration": 23,
    "start_time": "2025-06-14T00:33:56.274Z"
   },
   {
    "duration": 6,
    "start_time": "2025-06-14T00:33:56.299Z"
   },
   {
    "duration": 11,
    "start_time": "2025-06-14T00:33:56.307Z"
   },
   {
    "duration": 12,
    "start_time": "2025-06-14T00:33:56.320Z"
   },
   {
    "duration": 50,
    "start_time": "2025-06-14T00:33:56.333Z"
   },
   {
    "duration": 37,
    "start_time": "2025-06-14T00:33:56.385Z"
   },
   {
    "duration": 8,
    "start_time": "2025-06-14T00:33:56.424Z"
   },
   {
    "duration": 12,
    "start_time": "2025-06-14T00:33:56.435Z"
   },
   {
    "duration": 36,
    "start_time": "2025-06-14T00:33:56.448Z"
   },
   {
    "duration": 6,
    "start_time": "2025-06-14T00:33:56.487Z"
   },
   {
    "duration": 18,
    "start_time": "2025-06-14T00:33:56.495Z"
   },
   {
    "duration": 7,
    "start_time": "2025-06-14T00:33:56.515Z"
   },
   {
    "duration": 75,
    "start_time": "2025-06-14T00:33:56.523Z"
   },
   {
    "duration": 0,
    "start_time": "2025-06-14T00:33:56.600Z"
   },
   {
    "duration": 0,
    "start_time": "2025-06-14T00:33:56.601Z"
   },
   {
    "duration": 0,
    "start_time": "2025-06-14T00:33:56.602Z"
   },
   {
    "duration": 0,
    "start_time": "2025-06-14T00:33:56.603Z"
   },
   {
    "duration": 0,
    "start_time": "2025-06-14T00:33:56.604Z"
   },
   {
    "duration": 281,
    "start_time": "2025-06-14T00:34:00.098Z"
   },
   {
    "duration": 142,
    "start_time": "2025-06-14T00:34:21.824Z"
   },
   {
    "duration": 140,
    "start_time": "2025-06-14T00:34:30.444Z"
   },
   {
    "duration": 10,
    "start_time": "2025-06-14T00:34:58.312Z"
   },
   {
    "duration": 1260,
    "start_time": "2025-06-14T00:35:08.461Z"
   },
   {
    "duration": 95,
    "start_time": "2025-06-14T00:35:09.723Z"
   },
   {
    "duration": 21,
    "start_time": "2025-06-14T00:35:09.820Z"
   },
   {
    "duration": 17,
    "start_time": "2025-06-14T00:35:09.843Z"
   },
   {
    "duration": 37,
    "start_time": "2025-06-14T00:35:09.861Z"
   },
   {
    "duration": 6,
    "start_time": "2025-06-14T00:35:09.900Z"
   },
   {
    "duration": 19,
    "start_time": "2025-06-14T00:35:09.908Z"
   },
   {
    "duration": 18,
    "start_time": "2025-06-14T00:35:09.929Z"
   },
   {
    "duration": 29,
    "start_time": "2025-06-14T00:35:09.949Z"
   },
   {
    "duration": 19,
    "start_time": "2025-06-14T00:35:09.981Z"
   },
   {
    "duration": 9,
    "start_time": "2025-06-14T00:35:10.002Z"
   },
   {
    "duration": 38,
    "start_time": "2025-06-14T00:35:10.012Z"
   },
   {
    "duration": 24,
    "start_time": "2025-06-14T00:35:10.052Z"
   },
   {
    "duration": 7,
    "start_time": "2025-06-14T00:35:10.078Z"
   },
   {
    "duration": 19,
    "start_time": "2025-06-14T00:35:10.086Z"
   },
   {
    "duration": 7,
    "start_time": "2025-06-14T00:35:10.107Z"
   },
   {
    "duration": 77,
    "start_time": "2025-06-14T00:35:10.116Z"
   },
   {
    "duration": 0,
    "start_time": "2025-06-14T00:35:10.195Z"
   },
   {
    "duration": 0,
    "start_time": "2025-06-14T00:35:10.196Z"
   },
   {
    "duration": 0,
    "start_time": "2025-06-14T00:35:10.197Z"
   },
   {
    "duration": 0,
    "start_time": "2025-06-14T00:35:10.198Z"
   },
   {
    "duration": 0,
    "start_time": "2025-06-14T00:35:10.200Z"
   },
   {
    "duration": 104,
    "start_time": "2025-06-14T00:35:11.378Z"
   },
   {
    "duration": 165,
    "start_time": "2025-06-14T00:35:20.206Z"
   },
   {
    "duration": 189,
    "start_time": "2025-06-14T00:35:23.347Z"
   },
   {
    "duration": 219,
    "start_time": "2025-06-14T00:35:25.091Z"
   },
   {
    "duration": 163,
    "start_time": "2025-06-14T00:35:27.051Z"
   },
   {
    "duration": 18,
    "start_time": "2025-06-14T00:35:58.328Z"
   },
   {
    "duration": 106,
    "start_time": "2025-06-14T00:36:10.318Z"
   },
   {
    "duration": 124,
    "start_time": "2025-06-14T00:36:30.891Z"
   },
   {
    "duration": 130,
    "start_time": "2025-06-14T00:37:01.603Z"
   },
   {
    "duration": 116,
    "start_time": "2025-06-14T00:37:09.205Z"
   },
   {
    "duration": 132,
    "start_time": "2025-06-14T00:37:16.652Z"
   },
   {
    "duration": 210,
    "start_time": "2025-06-14T00:37:25.537Z"
   },
   {
    "duration": 89,
    "start_time": "2025-06-14T00:38:17.029Z"
   },
   {
    "duration": 0,
    "start_time": "2025-06-14T00:40:02.851Z"
   },
   {
    "duration": 0,
    "start_time": "2025-06-14T00:40:02.853Z"
   },
   {
    "duration": 1274,
    "start_time": "2025-06-14T00:43:56.138Z"
   },
   {
    "duration": 80,
    "start_time": "2025-06-14T00:43:57.414Z"
   },
   {
    "duration": 20,
    "start_time": "2025-06-14T00:43:57.495Z"
   },
   {
    "duration": 15,
    "start_time": "2025-06-14T00:43:57.516Z"
   },
   {
    "duration": 24,
    "start_time": "2025-06-14T00:43:57.533Z"
   },
   {
    "duration": 6,
    "start_time": "2025-06-14T00:43:57.571Z"
   },
   {
    "duration": 15,
    "start_time": "2025-06-14T00:43:57.579Z"
   },
   {
    "duration": 12,
    "start_time": "2025-06-14T00:43:57.595Z"
   },
   {
    "duration": 17,
    "start_time": "2025-06-14T00:43:57.608Z"
   },
   {
    "duration": 45,
    "start_time": "2025-06-14T00:43:57.627Z"
   },
   {
    "duration": 9,
    "start_time": "2025-06-14T00:43:57.674Z"
   },
   {
    "duration": 12,
    "start_time": "2025-06-14T00:43:57.685Z"
   },
   {
    "duration": 18,
    "start_time": "2025-06-14T00:43:57.699Z"
   },
   {
    "duration": 6,
    "start_time": "2025-06-14T00:43:57.720Z"
   },
   {
    "duration": 50,
    "start_time": "2025-06-14T00:43:57.728Z"
   },
   {
    "duration": 6,
    "start_time": "2025-06-14T00:43:57.780Z"
   },
   {
    "duration": 85,
    "start_time": "2025-06-14T00:43:57.788Z"
   },
   {
    "duration": 0,
    "start_time": "2025-06-14T00:43:57.875Z"
   },
   {
    "duration": 0,
    "start_time": "2025-06-14T00:43:57.876Z"
   },
   {
    "duration": 0,
    "start_time": "2025-06-14T00:43:57.877Z"
   },
   {
    "duration": 0,
    "start_time": "2025-06-14T00:43:57.878Z"
   },
   {
    "duration": 0,
    "start_time": "2025-06-14T00:43:57.879Z"
   },
   {
    "duration": 0,
    "start_time": "2025-06-14T00:43:57.880Z"
   },
   {
    "duration": 119,
    "start_time": "2025-06-14T00:44:00.505Z"
   },
   {
    "duration": 82,
    "start_time": "2025-06-14T00:44:48.545Z"
   },
   {
    "duration": 53,
    "start_time": "2025-06-14T00:45:36.306Z"
   },
   {
    "duration": 1228,
    "start_time": "2025-06-14T00:45:40.276Z"
   },
   {
    "duration": 82,
    "start_time": "2025-06-14T00:45:41.506Z"
   },
   {
    "duration": 20,
    "start_time": "2025-06-14T00:45:41.590Z"
   },
   {
    "duration": 15,
    "start_time": "2025-06-14T00:45:41.611Z"
   },
   {
    "duration": 41,
    "start_time": "2025-06-14T00:45:41.630Z"
   },
   {
    "duration": 7,
    "start_time": "2025-06-14T00:45:41.673Z"
   },
   {
    "duration": 11,
    "start_time": "2025-06-14T00:45:41.682Z"
   },
   {
    "duration": 12,
    "start_time": "2025-06-14T00:45:41.696Z"
   },
   {
    "duration": 20,
    "start_time": "2025-06-14T00:45:41.710Z"
   },
   {
    "duration": 56,
    "start_time": "2025-06-14T00:45:41.732Z"
   },
   {
    "duration": 8,
    "start_time": "2025-06-14T00:45:41.790Z"
   },
   {
    "duration": 12,
    "start_time": "2025-06-14T00:45:41.799Z"
   },
   {
    "duration": 20,
    "start_time": "2025-06-14T00:45:41.812Z"
   },
   {
    "duration": 7,
    "start_time": "2025-06-14T00:45:41.835Z"
   },
   {
    "duration": 17,
    "start_time": "2025-06-14T00:45:41.872Z"
   },
   {
    "duration": 34,
    "start_time": "2025-06-14T00:45:41.890Z"
   },
   {
    "duration": 75,
    "start_time": "2025-06-14T00:45:41.926Z"
   },
   {
    "duration": 0,
    "start_time": "2025-06-14T00:45:42.003Z"
   },
   {
    "duration": 0,
    "start_time": "2025-06-14T00:45:42.004Z"
   },
   {
    "duration": 0,
    "start_time": "2025-06-14T00:45:42.005Z"
   },
   {
    "duration": 0,
    "start_time": "2025-06-14T00:45:42.006Z"
   },
   {
    "duration": 0,
    "start_time": "2025-06-14T00:45:42.007Z"
   },
   {
    "duration": 0,
    "start_time": "2025-06-14T00:45:42.008Z"
   },
   {
    "duration": 51,
    "start_time": "2025-06-14T00:45:57.274Z"
   },
   {
    "duration": 6,
    "start_time": "2025-06-14T00:45:59.755Z"
   },
   {
    "duration": 1244,
    "start_time": "2025-06-14T00:46:06.680Z"
   },
   {
    "duration": 84,
    "start_time": "2025-06-14T00:46:07.926Z"
   },
   {
    "duration": 22,
    "start_time": "2025-06-14T00:46:08.012Z"
   },
   {
    "duration": 15,
    "start_time": "2025-06-14T00:46:08.036Z"
   },
   {
    "duration": 31,
    "start_time": "2025-06-14T00:46:08.053Z"
   },
   {
    "duration": 6,
    "start_time": "2025-06-14T00:46:08.086Z"
   },
   {
    "duration": 15,
    "start_time": "2025-06-14T00:46:08.094Z"
   },
   {
    "duration": 13,
    "start_time": "2025-06-14T00:46:08.111Z"
   },
   {
    "duration": 19,
    "start_time": "2025-06-14T00:46:08.125Z"
   },
   {
    "duration": 43,
    "start_time": "2025-06-14T00:46:08.146Z"
   },
   {
    "duration": 9,
    "start_time": "2025-06-14T00:46:08.191Z"
   },
   {
    "duration": 12,
    "start_time": "2025-06-14T00:46:08.202Z"
   },
   {
    "duration": 18,
    "start_time": "2025-06-14T00:46:08.217Z"
   },
   {
    "duration": 37,
    "start_time": "2025-06-14T00:46:08.238Z"
   },
   {
    "duration": 11,
    "start_time": "2025-06-14T00:46:08.277Z"
   },
   {
    "duration": 60,
    "start_time": "2025-06-14T00:46:08.290Z"
   },
   {
    "duration": 76,
    "start_time": "2025-06-14T00:46:08.353Z"
   },
   {
    "duration": 0,
    "start_time": "2025-06-14T00:46:08.430Z"
   },
   {
    "duration": 0,
    "start_time": "2025-06-14T00:46:08.431Z"
   },
   {
    "duration": 0,
    "start_time": "2025-06-14T00:46:08.432Z"
   },
   {
    "duration": 0,
    "start_time": "2025-06-14T00:46:08.434Z"
   },
   {
    "duration": 0,
    "start_time": "2025-06-14T00:46:08.435Z"
   },
   {
    "duration": 126,
    "start_time": "2025-06-14T00:46:10.889Z"
   },
   {
    "duration": 141,
    "start_time": "2025-06-14T00:47:00.025Z"
   },
   {
    "duration": 101,
    "start_time": "2025-06-14T00:47:17.873Z"
   },
   {
    "duration": 143,
    "start_time": "2025-06-14T00:47:22.028Z"
   },
   {
    "duration": 84,
    "start_time": "2025-06-14T00:47:34.550Z"
   },
   {
    "duration": 136,
    "start_time": "2025-06-14T00:47:37.572Z"
   },
   {
    "duration": 171,
    "start_time": "2025-06-14T00:48:25.807Z"
   },
   {
    "duration": 238,
    "start_time": "2025-06-14T00:48:51.273Z"
   },
   {
    "duration": 157,
    "start_time": "2025-06-14T00:48:58.956Z"
   },
   {
    "duration": 211,
    "start_time": "2025-06-14T00:49:06.612Z"
   },
   {
    "duration": 183,
    "start_time": "2025-06-14T00:49:13.729Z"
   },
   {
    "duration": 250,
    "start_time": "2025-06-14T00:49:22.004Z"
   },
   {
    "duration": 139,
    "start_time": "2025-06-14T00:49:35.586Z"
   },
   {
    "duration": 164,
    "start_time": "2025-06-14T00:49:42.103Z"
   },
   {
    "duration": 149,
    "start_time": "2025-06-14T00:50:08.643Z"
   },
   {
    "duration": 102,
    "start_time": "2025-06-14T00:51:22.860Z"
   },
   {
    "duration": 1218,
    "start_time": "2025-06-14T00:52:27.979Z"
   },
   {
    "duration": 83,
    "start_time": "2025-06-14T00:52:29.199Z"
   },
   {
    "duration": 21,
    "start_time": "2025-06-14T00:52:29.286Z"
   },
   {
    "duration": 14,
    "start_time": "2025-06-14T00:52:29.309Z"
   },
   {
    "duration": 23,
    "start_time": "2025-06-14T00:52:29.325Z"
   },
   {
    "duration": 6,
    "start_time": "2025-06-14T00:52:29.371Z"
   },
   {
    "duration": 12,
    "start_time": "2025-06-14T00:52:29.379Z"
   },
   {
    "duration": 12,
    "start_time": "2025-06-14T00:52:29.392Z"
   },
   {
    "duration": 17,
    "start_time": "2025-06-14T00:52:29.406Z"
   },
   {
    "duration": 50,
    "start_time": "2025-06-14T00:52:29.425Z"
   },
   {
    "duration": 9,
    "start_time": "2025-06-14T00:52:29.476Z"
   },
   {
    "duration": 12,
    "start_time": "2025-06-14T00:52:29.486Z"
   },
   {
    "duration": 18,
    "start_time": "2025-06-14T00:52:29.501Z"
   },
   {
    "duration": 7,
    "start_time": "2025-06-14T00:52:29.521Z"
   },
   {
    "duration": 43,
    "start_time": "2025-06-14T00:52:29.529Z"
   },
   {
    "duration": 7,
    "start_time": "2025-06-14T00:52:29.574Z"
   },
   {
    "duration": 87,
    "start_time": "2025-06-14T00:52:29.583Z"
   },
   {
    "duration": 0,
    "start_time": "2025-06-14T00:52:29.672Z"
   },
   {
    "duration": 0,
    "start_time": "2025-06-14T00:52:29.673Z"
   },
   {
    "duration": 0,
    "start_time": "2025-06-14T00:52:29.674Z"
   },
   {
    "duration": 0,
    "start_time": "2025-06-14T00:52:29.675Z"
   },
   {
    "duration": 0,
    "start_time": "2025-06-14T00:52:29.676Z"
   },
   {
    "duration": 162,
    "start_time": "2025-06-14T00:52:55.152Z"
   },
   {
    "duration": 122,
    "start_time": "2025-06-14T00:53:18.164Z"
   },
   {
    "duration": 122,
    "start_time": "2025-06-14T00:53:20.326Z"
   },
   {
    "duration": 115,
    "start_time": "2025-06-14T00:53:39.524Z"
   },
   {
    "duration": 131,
    "start_time": "2025-06-14T00:53:51.060Z"
   },
   {
    "duration": 124,
    "start_time": "2025-06-14T00:54:01.244Z"
   },
   {
    "duration": 143,
    "start_time": "2025-06-14T00:54:05.605Z"
   },
   {
    "duration": 150,
    "start_time": "2025-06-14T00:54:16.594Z"
   },
   {
    "duration": 290,
    "start_time": "2025-06-14T00:57:57.352Z"
   },
   {
    "duration": 210,
    "start_time": "2025-06-14T00:59:24.755Z"
   },
   {
    "duration": 107,
    "start_time": "2025-06-14T00:59:47.376Z"
   },
   {
    "duration": 11,
    "start_time": "2025-06-14T01:00:30.760Z"
   },
   {
    "duration": 10,
    "start_time": "2025-06-14T01:00:39.519Z"
   },
   {
    "duration": 13,
    "start_time": "2025-06-14T01:00:44.868Z"
   },
   {
    "duration": 19,
    "start_time": "2025-06-14T01:00:49.459Z"
   },
   {
    "duration": 214,
    "start_time": "2025-06-14T01:02:50.493Z"
   },
   {
    "duration": 207,
    "start_time": "2025-06-14T01:03:00.314Z"
   },
   {
    "duration": 136,
    "start_time": "2025-06-14T01:03:23.412Z"
   },
   {
    "duration": 138,
    "start_time": "2025-06-14T01:03:27.718Z"
   },
   {
    "duration": 159,
    "start_time": "2025-06-14T01:03:42.232Z"
   },
   {
    "duration": 136,
    "start_time": "2025-06-14T01:03:46.523Z"
   },
   {
    "duration": 15,
    "start_time": "2025-06-14T01:04:49.184Z"
   },
   {
    "duration": 122,
    "start_time": "2025-06-14T01:04:54.917Z"
   },
   {
    "duration": 121,
    "start_time": "2025-06-14T01:06:52.529Z"
   },
   {
    "duration": 15,
    "start_time": "2025-06-14T01:07:52.832Z"
   },
   {
    "duration": 135,
    "start_time": "2025-06-14T01:08:03.283Z"
   },
   {
    "duration": 144,
    "start_time": "2025-06-14T01:08:29.847Z"
   },
   {
    "duration": 238,
    "start_time": "2025-06-14T01:08:36.282Z"
   },
   {
    "duration": 140,
    "start_time": "2025-06-14T01:09:01.258Z"
   },
   {
    "duration": 198,
    "start_time": "2025-06-14T01:09:17.200Z"
   },
   {
    "duration": 202,
    "start_time": "2025-06-14T01:10:39.322Z"
   },
   {
    "duration": 207,
    "start_time": "2025-06-14T01:10:43.546Z"
   },
   {
    "duration": 112,
    "start_time": "2025-06-14T01:11:51.512Z"
   },
   {
    "duration": 130,
    "start_time": "2025-06-14T01:12:15.107Z"
   },
   {
    "duration": 125,
    "start_time": "2025-06-14T01:12:25.602Z"
   },
   {
    "duration": 161,
    "start_time": "2025-06-14T01:13:18.851Z"
   },
   {
    "duration": 139,
    "start_time": "2025-06-14T01:13:22.281Z"
   },
   {
    "duration": 134,
    "start_time": "2025-06-14T01:13:37.028Z"
   },
   {
    "duration": 137,
    "start_time": "2025-06-14T01:13:40.181Z"
   },
   {
    "duration": 157,
    "start_time": "2025-06-14T01:14:01.903Z"
   },
   {
    "duration": 10,
    "start_time": "2025-06-14T01:14:41.183Z"
   },
   {
    "duration": 10,
    "start_time": "2025-06-14T01:15:32.914Z"
   },
   {
    "duration": 9,
    "start_time": "2025-06-14T01:18:44.786Z"
   },
   {
    "duration": 565,
    "start_time": "2025-06-14T01:19:00.399Z"
   },
   {
    "duration": 52,
    "start_time": "2025-06-14T01:20:37.078Z"
   },
   {
    "duration": 1252,
    "start_time": "2025-06-14T01:20:42.370Z"
   },
   {
    "duration": 92,
    "start_time": "2025-06-14T01:20:43.624Z"
   },
   {
    "duration": 22,
    "start_time": "2025-06-14T01:20:43.718Z"
   },
   {
    "duration": 15,
    "start_time": "2025-06-14T01:20:43.741Z"
   },
   {
    "duration": 32,
    "start_time": "2025-06-14T01:20:43.759Z"
   },
   {
    "duration": 6,
    "start_time": "2025-06-14T01:20:43.793Z"
   },
   {
    "duration": 12,
    "start_time": "2025-06-14T01:20:43.801Z"
   },
   {
    "duration": 13,
    "start_time": "2025-06-14T01:20:43.815Z"
   },
   {
    "duration": 44,
    "start_time": "2025-06-14T01:20:43.830Z"
   },
   {
    "duration": 21,
    "start_time": "2025-06-14T01:20:43.875Z"
   },
   {
    "duration": 9,
    "start_time": "2025-06-14T01:20:43.898Z"
   },
   {
    "duration": 12,
    "start_time": "2025-06-14T01:20:43.909Z"
   },
   {
    "duration": 18,
    "start_time": "2025-06-14T01:20:43.923Z"
   },
   {
    "duration": 8,
    "start_time": "2025-06-14T01:20:43.973Z"
   },
   {
    "duration": 10,
    "start_time": "2025-06-14T01:20:43.983Z"
   },
   {
    "duration": 7,
    "start_time": "2025-06-14T01:20:43.995Z"
   },
   {
    "duration": 75,
    "start_time": "2025-06-14T01:20:44.004Z"
   },
   {
    "duration": 0,
    "start_time": "2025-06-14T01:20:44.081Z"
   },
   {
    "duration": 0,
    "start_time": "2025-06-14T01:20:44.082Z"
   },
   {
    "duration": 0,
    "start_time": "2025-06-14T01:20:44.083Z"
   },
   {
    "duration": 1,
    "start_time": "2025-06-14T01:20:44.084Z"
   },
   {
    "duration": 0,
    "start_time": "2025-06-14T01:20:44.085Z"
   },
   {
    "duration": 0,
    "start_time": "2025-06-14T01:20:44.087Z"
   },
   {
    "duration": 0,
    "start_time": "2025-06-14T01:20:44.088Z"
   },
   {
    "duration": 0,
    "start_time": "2025-06-14T01:20:44.089Z"
   },
   {
    "duration": 0,
    "start_time": "2025-06-14T01:20:44.090Z"
   },
   {
    "duration": 102,
    "start_time": "2025-06-14T01:20:46.763Z"
   },
   {
    "duration": 175,
    "start_time": "2025-06-14T01:20:53.440Z"
   },
   {
    "duration": 138,
    "start_time": "2025-06-14T01:21:30.251Z"
   },
   {
    "duration": 80,
    "start_time": "2025-06-14T01:22:45.809Z"
   },
   {
    "duration": 77,
    "start_time": "2025-06-14T01:23:00.293Z"
   },
   {
    "duration": 140,
    "start_time": "2025-06-14T01:23:09.250Z"
   },
   {
    "duration": 154,
    "start_time": "2025-06-14T01:23:19.129Z"
   },
   {
    "duration": 432,
    "start_time": "2025-06-14T01:24:04.579Z"
   },
   {
    "duration": 418,
    "start_time": "2025-06-14T01:24:13.859Z"
   },
   {
    "duration": 343,
    "start_time": "2025-06-14T01:24:19.031Z"
   },
   {
    "duration": 355,
    "start_time": "2025-06-14T01:25:20.635Z"
   },
   {
    "duration": 238,
    "start_time": "2025-06-14T01:25:41.732Z"
   },
   {
    "duration": 128,
    "start_time": "2025-06-14T01:25:52.918Z"
   },
   {
    "duration": 158,
    "start_time": "2025-06-14T01:26:00.242Z"
   },
   {
    "duration": 203,
    "start_time": "2025-06-14T01:26:06.829Z"
   },
   {
    "duration": 211,
    "start_time": "2025-06-14T01:26:09.758Z"
   },
   {
    "duration": 211,
    "start_time": "2025-06-14T01:26:14.816Z"
   },
   {
    "duration": 182,
    "start_time": "2025-06-14T01:26:16.923Z"
   },
   {
    "duration": 192,
    "start_time": "2025-06-14T01:26:20.750Z"
   },
   {
    "duration": 146,
    "start_time": "2025-06-14T01:26:24.727Z"
   },
   {
    "duration": 219,
    "start_time": "2025-06-14T01:26:28.929Z"
   },
   {
    "duration": 152,
    "start_time": "2025-06-14T01:26:35.094Z"
   },
   {
    "duration": 396,
    "start_time": "2025-06-14T01:26:41.212Z"
   },
   {
    "duration": 324,
    "start_time": "2025-06-14T01:26:49.933Z"
   },
   {
    "duration": 340,
    "start_time": "2025-06-14T01:27:08.633Z"
   },
   {
    "duration": 291,
    "start_time": "2025-06-14T01:27:28.411Z"
   },
   {
    "duration": 8,
    "start_time": "2025-06-14T01:27:54.809Z"
   },
   {
    "duration": 9,
    "start_time": "2025-06-14T01:28:38.177Z"
   },
   {
    "duration": 355,
    "start_time": "2025-06-14T01:28:40.845Z"
   },
   {
    "duration": 14,
    "start_time": "2025-06-14T01:29:24.478Z"
   },
   {
    "duration": 215,
    "start_time": "2025-06-14T01:29:29.747Z"
   },
   {
    "duration": 216,
    "start_time": "2025-06-14T01:29:33.117Z"
   },
   {
    "duration": 158,
    "start_time": "2025-06-14T01:29:41.729Z"
   },
   {
    "duration": 177,
    "start_time": "2025-06-14T01:29:47.739Z"
   },
   {
    "duration": 1499,
    "start_time": "2025-06-14T01:31:51.397Z"
   },
   {
    "duration": 250,
    "start_time": "2025-06-14T01:32:25.346Z"
   },
   {
    "duration": 133,
    "start_time": "2025-06-14T01:33:47.490Z"
   },
   {
    "duration": 184,
    "start_time": "2025-06-14T01:35:02.238Z"
   },
   {
    "duration": 269,
    "start_time": "2025-06-14T01:35:18.464Z"
   },
   {
    "duration": 10,
    "start_time": "2025-06-14T01:36:07.539Z"
   },
   {
    "duration": 5,
    "start_time": "2025-06-14T01:36:19.718Z"
   },
   {
    "duration": 132,
    "start_time": "2025-06-14T01:36:38.386Z"
   },
   {
    "duration": 256,
    "start_time": "2025-06-14T01:38:38.673Z"
   },
   {
    "duration": 277,
    "start_time": "2025-06-14T01:39:12.685Z"
   },
   {
    "duration": 243,
    "start_time": "2025-06-14T01:39:23.583Z"
   },
   {
    "duration": 235,
    "start_time": "2025-06-14T01:39:35.839Z"
   },
   {
    "duration": 274,
    "start_time": "2025-06-14T01:39:39.906Z"
   },
   {
    "duration": 243,
    "start_time": "2025-06-14T01:39:42.558Z"
   },
   {
    "duration": 251,
    "start_time": "2025-06-14T01:40:07.585Z"
   },
   {
    "duration": 233,
    "start_time": "2025-06-14T01:40:15.783Z"
   },
   {
    "duration": 254,
    "start_time": "2025-06-14T01:40:25.667Z"
   },
   {
    "duration": 244,
    "start_time": "2025-06-14T01:42:21.568Z"
   },
   {
    "duration": 38,
    "start_time": "2025-06-14T01:45:41.361Z"
   },
   {
    "duration": 335,
    "start_time": "2025-06-14T01:45:52.252Z"
   },
   {
    "duration": 156,
    "start_time": "2025-06-14T01:46:41.623Z"
   },
   {
    "duration": 78,
    "start_time": "2025-06-14T01:47:01.187Z"
   },
   {
    "duration": 159,
    "start_time": "2025-06-14T01:47:03.910Z"
   },
   {
    "duration": 17,
    "start_time": "2025-06-14T01:47:22.862Z"
   },
   {
    "duration": 272,
    "start_time": "2025-06-14T01:47:35.640Z"
   },
   {
    "duration": 166,
    "start_time": "2025-06-14T01:47:54.901Z"
   },
   {
    "duration": 174,
    "start_time": "2025-06-14T01:48:01.246Z"
   },
   {
    "duration": 2210,
    "start_time": "2025-06-14T01:48:44.274Z"
   },
   {
    "duration": 20,
    "start_time": "2025-06-14T01:49:13.244Z"
   },
   {
    "duration": 182,
    "start_time": "2025-06-14T01:50:12.568Z"
   },
   {
    "duration": 174,
    "start_time": "2025-06-14T01:50:27.006Z"
   },
   {
    "duration": 176,
    "start_time": "2025-06-14T01:50:49.433Z"
   },
   {
    "duration": 296,
    "start_time": "2025-06-14T01:51:03.413Z"
   },
   {
    "duration": 168,
    "start_time": "2025-06-14T01:51:10.893Z"
   },
   {
    "duration": 155,
    "start_time": "2025-06-14T01:51:27.914Z"
   },
   {
    "duration": 21,
    "start_time": "2025-06-14T01:51:30.744Z"
   },
   {
    "duration": 159,
    "start_time": "2025-06-14T01:51:33.245Z"
   },
   {
    "duration": 20,
    "start_time": "2025-06-14T01:51:43.190Z"
   },
   {
    "duration": 158,
    "start_time": "2025-06-14T01:51:46.223Z"
   },
   {
    "duration": 103,
    "start_time": "2025-06-14T01:52:29.663Z"
   },
   {
    "duration": 245,
    "start_time": "2025-06-14T01:52:41.954Z"
   },
   {
    "duration": 14,
    "start_time": "2025-06-14T01:54:54.095Z"
   },
   {
    "duration": 14,
    "start_time": "2025-06-14T01:56:18.251Z"
   },
   {
    "duration": 10,
    "start_time": "2025-06-14T01:58:56.786Z"
   },
   {
    "duration": 11,
    "start_time": "2025-06-14T01:59:01.403Z"
   },
   {
    "duration": 81,
    "start_time": "2025-06-14T01:59:25.465Z"
   },
   {
    "duration": 74,
    "start_time": "2025-06-14T01:59:30.508Z"
   },
   {
    "duration": 78,
    "start_time": "2025-06-14T01:59:33.000Z"
   },
   {
    "duration": 10,
    "start_time": "2025-06-14T02:00:51.229Z"
   },
   {
    "duration": 11,
    "start_time": "2025-06-14T02:01:51.280Z"
   },
   {
    "duration": 3521,
    "start_time": "2025-06-14T02:02:41.858Z"
   },
   {
    "duration": 63,
    "start_time": "2025-06-14T02:03:26.620Z"
   },
   {
    "duration": 179,
    "start_time": "2025-06-14T02:03:32.533Z"
   },
   {
    "duration": 163,
    "start_time": "2025-06-14T02:04:01.408Z"
   },
   {
    "duration": 142,
    "start_time": "2025-06-14T02:05:29.486Z"
   },
   {
    "duration": 11,
    "start_time": "2025-06-14T02:05:36.903Z"
   },
   {
    "duration": 7,
    "start_time": "2025-06-14T02:05:37.534Z"
   },
   {
    "duration": 163,
    "start_time": "2025-06-14T02:05:43.335Z"
   },
   {
    "duration": 494,
    "start_time": "2025-06-14T02:06:17.323Z"
   },
   {
    "duration": 436,
    "start_time": "2025-06-14T02:06:48.150Z"
   },
   {
    "duration": 11,
    "start_time": "2025-06-14T02:10:55.874Z"
   },
   {
    "duration": 10,
    "start_time": "2025-06-14T02:11:00.845Z"
   },
   {
    "duration": 11,
    "start_time": "2025-06-14T02:11:27.336Z"
   },
   {
    "duration": 7,
    "start_time": "2025-06-14T02:11:42.553Z"
   },
   {
    "duration": 11,
    "start_time": "2025-06-14T02:11:47.336Z"
   },
   {
    "duration": 481,
    "start_time": "2025-06-14T02:13:29.252Z"
   },
   {
    "duration": 236,
    "start_time": "2025-06-14T02:14:13.033Z"
   },
   {
    "duration": 465,
    "start_time": "2025-06-14T02:14:17.263Z"
   },
   {
    "duration": 467,
    "start_time": "2025-06-14T02:14:27.256Z"
   },
   {
    "duration": 217,
    "start_time": "2025-06-14T02:14:37.641Z"
   },
   {
    "duration": 203,
    "start_time": "2025-06-14T02:14:48.334Z"
   },
   {
    "duration": 228,
    "start_time": "2025-06-14T02:15:14.061Z"
   },
   {
    "duration": 272,
    "start_time": "2025-06-14T02:15:55.771Z"
   },
   {
    "duration": 266,
    "start_time": "2025-06-14T02:15:59.759Z"
   },
   {
    "duration": 10,
    "start_time": "2025-06-14T02:18:11.114Z"
   },
   {
    "duration": 12,
    "start_time": "2025-06-14T02:18:20.803Z"
   },
   {
    "duration": 10,
    "start_time": "2025-06-14T02:23:05.894Z"
   },
   {
    "duration": 16,
    "start_time": "2025-06-14T02:23:18.695Z"
   },
   {
    "duration": 11,
    "start_time": "2025-06-14T02:23:41.047Z"
   },
   {
    "duration": 12,
    "start_time": "2025-06-14T02:23:50.301Z"
   },
   {
    "duration": 20,
    "start_time": "2025-06-14T02:24:02.956Z"
   },
   {
    "duration": 18,
    "start_time": "2025-06-14T02:24:20.990Z"
   },
   {
    "duration": 10,
    "start_time": "2025-06-14T02:24:24.241Z"
   },
   {
    "duration": 19,
    "start_time": "2025-06-14T02:25:55.229Z"
   },
   {
    "duration": 18,
    "start_time": "2025-06-14T02:26:06.734Z"
   },
   {
    "duration": 17,
    "start_time": "2025-06-14T02:26:37.768Z"
   },
   {
    "duration": 17,
    "start_time": "2025-06-14T02:26:43.875Z"
   },
   {
    "duration": 16,
    "start_time": "2025-06-14T02:26:54.837Z"
   },
   {
    "duration": 19,
    "start_time": "2025-06-14T02:26:58.241Z"
   },
   {
    "duration": 18,
    "start_time": "2025-06-14T02:27:08.468Z"
   },
   {
    "duration": 19,
    "start_time": "2025-06-14T02:27:57.872Z"
   },
   {
    "duration": 17,
    "start_time": "2025-06-14T02:28:10.866Z"
   },
   {
    "duration": 1595,
    "start_time": "2025-06-14T02:29:09.685Z"
   },
   {
    "duration": 1446,
    "start_time": "2025-06-14T02:29:26.908Z"
   },
   {
    "duration": 1430,
    "start_time": "2025-06-14T02:29:41.351Z"
   },
   {
    "duration": 1514,
    "start_time": "2025-06-14T02:29:44.864Z"
   },
   {
    "duration": 1489,
    "start_time": "2025-06-14T02:29:48.424Z"
   },
   {
    "duration": 1433,
    "start_time": "2025-06-14T02:29:54.927Z"
   },
   {
    "duration": 16,
    "start_time": "2025-06-14T02:30:29.137Z"
   },
   {
    "duration": 18,
    "start_time": "2025-06-14T02:31:32.711Z"
   },
   {
    "duration": 18,
    "start_time": "2025-06-14T02:33:34.674Z"
   },
   {
    "duration": 300,
    "start_time": "2025-06-14T02:33:48.582Z"
   },
   {
    "duration": 229,
    "start_time": "2025-06-14T02:34:28.354Z"
   },
   {
    "duration": 10,
    "start_time": "2025-06-14T02:34:47.524Z"
   },
   {
    "duration": 238,
    "start_time": "2025-06-14T02:34:50.930Z"
   },
   {
    "duration": 453,
    "start_time": "2025-06-14T02:34:56.640Z"
   },
   {
    "duration": 252,
    "start_time": "2025-06-14T02:35:04.124Z"
   },
   {
    "duration": 238,
    "start_time": "2025-06-14T02:35:07.282Z"
   },
   {
    "duration": 257,
    "start_time": "2025-06-14T02:35:10.762Z"
   },
   {
    "duration": 235,
    "start_time": "2025-06-14T02:35:16.259Z"
   },
   {
    "duration": 248,
    "start_time": "2025-06-14T02:35:20.200Z"
   },
   {
    "duration": 245,
    "start_time": "2025-06-14T02:35:24.156Z"
   },
   {
    "duration": 259,
    "start_time": "2025-06-14T02:36:02.854Z"
   },
   {
    "duration": 276,
    "start_time": "2025-06-14T02:36:51.376Z"
   },
   {
    "duration": 244,
    "start_time": "2025-06-14T02:37:11.195Z"
   },
   {
    "duration": 274,
    "start_time": "2025-06-14T02:37:14.685Z"
   },
   {
    "duration": 277,
    "start_time": "2025-06-14T02:37:22.867Z"
   },
   {
    "duration": 277,
    "start_time": "2025-06-14T02:37:27.661Z"
   },
   {
    "duration": 283,
    "start_time": "2025-06-14T02:37:32.321Z"
   },
   {
    "duration": 94,
    "start_time": "2025-06-14T02:39:01.073Z"
   },
   {
    "duration": 1487,
    "start_time": "2025-06-14T02:39:06.266Z"
   },
   {
    "duration": 18,
    "start_time": "2025-06-14T02:39:25.583Z"
   },
   {
    "duration": 328,
    "start_time": "2025-06-14T02:39:42.020Z"
   },
   {
    "duration": 134,
    "start_time": "2025-06-14T02:39:58.427Z"
   },
   {
    "duration": 1481,
    "start_time": "2025-06-14T02:40:07.552Z"
   },
   {
    "duration": 213,
    "start_time": "2025-06-14T02:40:55.500Z"
   },
   {
    "duration": 308,
    "start_time": "2025-06-14T02:40:58.497Z"
   },
   {
    "duration": 505,
    "start_time": "2025-06-14T02:41:01.860Z"
   },
   {
    "duration": 549,
    "start_time": "2025-06-14T02:41:23.112Z"
   },
   {
    "duration": 529,
    "start_time": "2025-06-14T02:41:43.103Z"
   },
   {
    "duration": 275,
    "start_time": "2025-06-14T02:41:51.114Z"
   },
   {
    "duration": 266,
    "start_time": "2025-06-14T02:41:55.861Z"
   },
   {
    "duration": 257,
    "start_time": "2025-06-14T02:42:19.631Z"
   },
   {
    "duration": 264,
    "start_time": "2025-06-14T02:42:29.812Z"
   },
   {
    "duration": 282,
    "start_time": "2025-06-14T02:43:19.119Z"
   },
   {
    "duration": 281,
    "start_time": "2025-06-14T02:43:19.403Z"
   },
   {
    "duration": 275,
    "start_time": "2025-06-14T02:43:51.369Z"
   },
   {
    "duration": 263,
    "start_time": "2025-06-14T02:44:03.492Z"
   },
   {
    "duration": 375,
    "start_time": "2025-06-14T02:45:41.812Z"
   },
   {
    "duration": 19,
    "start_time": "2025-06-14T02:46:05.079Z"
   },
   {
    "duration": 403,
    "start_time": "2025-06-14T02:46:11.029Z"
   },
   {
    "duration": 375,
    "start_time": "2025-06-14T02:46:15.641Z"
   },
   {
    "duration": 223,
    "start_time": "2025-06-14T02:46:25.448Z"
   },
   {
    "duration": 378,
    "start_time": "2025-06-14T02:46:29.438Z"
   },
   {
    "duration": 217,
    "start_time": "2025-06-14T02:46:40.262Z"
   },
   {
    "duration": 364,
    "start_time": "2025-06-14T02:48:12.007Z"
   },
   {
    "duration": 389,
    "start_time": "2025-06-14T02:48:42.444Z"
   },
   {
    "duration": 347,
    "start_time": "2025-06-14T02:48:51.105Z"
   },
   {
    "duration": 816,
    "start_time": "2025-06-14T02:49:08.084Z"
   },
   {
    "duration": 354,
    "start_time": "2025-06-14T02:49:41.786Z"
   },
   {
    "duration": 311,
    "start_time": "2025-06-14T02:49:45.016Z"
   },
   {
    "duration": 377,
    "start_time": "2025-06-14T02:49:50.261Z"
   },
   {
    "duration": 339,
    "start_time": "2025-06-14T02:49:54.406Z"
   },
   {
    "duration": 367,
    "start_time": "2025-06-14T02:50:17.957Z"
   },
   {
    "duration": 355,
    "start_time": "2025-06-14T02:50:23.276Z"
   },
   {
    "duration": 343,
    "start_time": "2025-06-14T02:50:50.593Z"
   },
   {
    "duration": 372,
    "start_time": "2025-06-14T02:51:34.220Z"
   },
   {
    "duration": 15,
    "start_time": "2025-06-14T02:51:43.651Z"
   },
   {
    "duration": 206,
    "start_time": "2025-06-14T02:51:51.502Z"
   },
   {
    "duration": 551,
    "start_time": "2025-06-14T02:52:04.595Z"
   },
   {
    "duration": 89,
    "start_time": "2025-06-14T02:52:17.747Z"
   },
   {
    "duration": 85,
    "start_time": "2025-06-14T02:52:28.550Z"
   },
   {
    "duration": 118,
    "start_time": "2025-06-14T02:52:36.135Z"
   },
   {
    "duration": 566,
    "start_time": "2025-06-14T02:52:45.074Z"
   },
   {
    "duration": 579,
    "start_time": "2025-06-14T02:52:52.659Z"
   },
   {
    "duration": 575,
    "start_time": "2025-06-14T02:53:00.971Z"
   },
   {
    "duration": 541,
    "start_time": "2025-06-14T02:53:17.859Z"
   },
   {
    "duration": 455,
    "start_time": "2025-06-14T02:53:24.173Z"
   },
   {
    "duration": 426,
    "start_time": "2025-06-14T02:53:27.699Z"
   },
   {
    "duration": 441,
    "start_time": "2025-06-14T02:53:37.502Z"
   },
   {
    "duration": 482,
    "start_time": "2025-06-14T02:53:41.937Z"
   },
   {
    "duration": 474,
    "start_time": "2025-06-14T02:53:47.349Z"
   },
   {
    "duration": 367,
    "start_time": "2025-06-14T02:53:59.370Z"
   },
   {
    "duration": 379,
    "start_time": "2025-06-14T02:54:26.548Z"
   },
   {
    "duration": 349,
    "start_time": "2025-06-14T02:54:33.208Z"
   },
   {
    "duration": 362,
    "start_time": "2025-06-14T02:54:38.573Z"
   },
   {
    "duration": 682,
    "start_time": "2025-06-14T02:54:43.144Z"
   },
   {
    "duration": 47,
    "start_time": "2025-06-14T08:15:48.452Z"
   },
   {
    "duration": 6,
    "start_time": "2025-06-14T08:15:53.788Z"
   },
   {
    "duration": 5,
    "start_time": "2025-06-14T08:15:54.553Z"
   },
   {
    "duration": 5,
    "start_time": "2025-06-14T08:16:05.616Z"
   },
   {
    "duration": 7,
    "start_time": "2025-06-14T08:16:09.886Z"
   },
   {
    "duration": 1352,
    "start_time": "2025-06-14T08:16:12.805Z"
   },
   {
    "duration": 0,
    "start_time": "2025-06-14T08:16:14.158Z"
   },
   {
    "duration": 55,
    "start_time": "2025-06-14T08:16:28.022Z"
   },
   {
    "duration": 53,
    "start_time": "2025-06-14T08:16:56.688Z"
   },
   {
    "duration": 3540,
    "start_time": "2025-06-14T08:17:46.517Z"
   },
   {
    "duration": 91,
    "start_time": "2025-06-14T08:17:53.574Z"
   },
   {
    "duration": 31,
    "start_time": "2025-06-14T08:17:54.893Z"
   },
   {
    "duration": 20,
    "start_time": "2025-06-14T08:18:02.115Z"
   },
   {
    "duration": 21,
    "start_time": "2025-06-14T08:18:15.511Z"
   },
   {
    "duration": 21,
    "start_time": "2025-06-14T08:18:18.042Z"
   },
   {
    "duration": 21,
    "start_time": "2025-06-14T08:18:18.660Z"
   },
   {
    "duration": 16,
    "start_time": "2025-06-14T08:21:54.397Z"
   },
   {
    "duration": 13,
    "start_time": "2025-06-14T08:22:00.571Z"
   },
   {
    "duration": 21,
    "start_time": "2025-06-14T08:22:02.272Z"
   },
   {
    "duration": 5,
    "start_time": "2025-06-14T08:22:04.154Z"
   },
   {
    "duration": 10,
    "start_time": "2025-06-14T08:22:06.355Z"
   },
   {
    "duration": 10,
    "start_time": "2025-06-14T08:22:13.810Z"
   },
   {
    "duration": 11,
    "start_time": "2025-06-14T08:22:23.313Z"
   },
   {
    "duration": 12,
    "start_time": "2025-06-14T08:22:35.911Z"
   },
   {
    "duration": 16,
    "start_time": "2025-06-14T08:22:52.415Z"
   },
   {
    "duration": 23,
    "start_time": "2025-06-14T08:22:52.881Z"
   },
   {
    "duration": 16,
    "start_time": "2025-06-14T08:22:53.589Z"
   },
   {
    "duration": 17,
    "start_time": "2025-06-14T08:22:54.765Z"
   },
   {
    "duration": 7,
    "start_time": "2025-06-14T08:22:56.582Z"
   },
   {
    "duration": 11,
    "start_time": "2025-06-14T08:22:57.021Z"
   },
   {
    "duration": 17,
    "start_time": "2025-06-14T08:22:57.604Z"
   },
   {
    "duration": 8,
    "start_time": "2025-06-14T08:23:00.001Z"
   },
   {
    "duration": 11,
    "start_time": "2025-06-14T08:23:04.417Z"
   },
   {
    "duration": 7,
    "start_time": "2025-06-14T08:23:04.721Z"
   },
   {
    "duration": 153,
    "start_time": "2025-06-14T08:23:44.100Z"
   },
   {
    "duration": 148,
    "start_time": "2025-06-14T08:24:00.902Z"
   },
   {
    "duration": 58,
    "start_time": "2025-06-14T08:27:11.385Z"
   },
   {
    "duration": 147,
    "start_time": "2025-06-14T08:27:18.983Z"
   },
   {
    "duration": 145,
    "start_time": "2025-06-14T08:28:32.516Z"
   },
   {
    "duration": 160,
    "start_time": "2025-06-14T08:29:21.980Z"
   },
   {
    "duration": 180,
    "start_time": "2025-06-14T08:29:38.809Z"
   },
   {
    "duration": 189,
    "start_time": "2025-06-14T08:29:55.122Z"
   },
   {
    "duration": 263,
    "start_time": "2025-06-14T08:31:22.797Z"
   },
   {
    "duration": 181,
    "start_time": "2025-06-14T08:31:56.580Z"
   },
   {
    "duration": 120,
    "start_time": "2025-06-14T08:44:36.905Z"
   },
   {
    "duration": 124,
    "start_time": "2025-06-14T08:44:45.311Z"
   },
   {
    "duration": 121,
    "start_time": "2025-06-14T08:58:40.867Z"
   },
   {
    "duration": 147,
    "start_time": "2025-06-14T08:58:49.460Z"
   },
   {
    "duration": 147,
    "start_time": "2025-06-14T08:58:55.337Z"
   },
   {
    "duration": 143,
    "start_time": "2025-06-14T08:59:28.516Z"
   },
   {
    "duration": 143,
    "start_time": "2025-06-14T08:59:37.344Z"
   },
   {
    "duration": 138,
    "start_time": "2025-06-14T08:59:54.091Z"
   },
   {
    "duration": 136,
    "start_time": "2025-06-14T08:59:57.496Z"
   },
   {
    "duration": 142,
    "start_time": "2025-06-14T09:01:21.867Z"
   },
   {
    "duration": 141,
    "start_time": "2025-06-14T09:01:41.691Z"
   },
   {
    "duration": 229,
    "start_time": "2025-06-14T09:02:24.029Z"
   },
   {
    "duration": 55,
    "start_time": "2025-06-14T09:03:14.420Z"
   },
   {
    "duration": 121,
    "start_time": "2025-06-14T09:03:21.449Z"
   },
   {
    "duration": 145,
    "start_time": "2025-06-14T09:03:28.486Z"
   },
   {
    "duration": 123,
    "start_time": "2025-06-14T09:03:53.688Z"
   },
   {
    "duration": 124,
    "start_time": "2025-06-14T09:03:56.712Z"
   },
   {
    "duration": 140,
    "start_time": "2025-06-14T09:04:00.798Z"
   },
   {
    "duration": 152,
    "start_time": "2025-06-14T09:04:57.758Z"
   },
   {
    "duration": 147,
    "start_time": "2025-06-14T09:05:04.243Z"
   },
   {
    "duration": 13,
    "start_time": "2025-06-14T09:06:25.786Z"
   },
   {
    "duration": 234,
    "start_time": "2025-06-14T09:06:31.444Z"
   },
   {
    "duration": 193,
    "start_time": "2025-06-14T09:08:39.238Z"
   },
   {
    "duration": 231,
    "start_time": "2025-06-14T09:08:55.452Z"
   },
   {
    "duration": 225,
    "start_time": "2025-06-14T09:09:33.468Z"
   },
   {
    "duration": 332,
    "start_time": "2025-06-14T09:10:04.929Z"
   },
   {
    "duration": 243,
    "start_time": "2025-06-14T09:10:27.580Z"
   },
   {
    "duration": 193,
    "start_time": "2025-06-14T09:10:42.838Z"
   },
   {
    "duration": 214,
    "start_time": "2025-06-14T09:10:51.827Z"
   },
   {
    "duration": 195,
    "start_time": "2025-06-14T09:12:13.365Z"
   },
   {
    "duration": 198,
    "start_time": "2025-06-14T09:12:36.727Z"
   },
   {
    "duration": 145,
    "start_time": "2025-06-14T09:13:06.164Z"
   },
   {
    "duration": 143,
    "start_time": "2025-06-14T09:13:12.898Z"
   },
   {
    "duration": 187,
    "start_time": "2025-06-14T09:14:51.012Z"
   },
   {
    "duration": 206,
    "start_time": "2025-06-14T09:15:08.590Z"
   },
   {
    "duration": 186,
    "start_time": "2025-06-14T09:18:11.026Z"
   },
   {
    "duration": 266,
    "start_time": "2025-06-14T09:18:16.922Z"
   },
   {
    "duration": 174,
    "start_time": "2025-06-14T09:18:23.792Z"
   },
   {
    "duration": 172,
    "start_time": "2025-06-14T09:18:43.135Z"
   },
   {
    "duration": 166,
    "start_time": "2025-06-14T09:18:49.277Z"
   },
   {
    "duration": 187,
    "start_time": "2025-06-14T09:18:58.650Z"
   },
   {
    "duration": 200,
    "start_time": "2025-06-14T09:19:02.317Z"
   },
   {
    "duration": 204,
    "start_time": "2025-06-14T09:19:06.481Z"
   },
   {
    "duration": 213,
    "start_time": "2025-06-14T09:19:12.442Z"
   },
   {
    "duration": 222,
    "start_time": "2025-06-14T09:19:22.103Z"
   },
   {
    "duration": 394,
    "start_time": "2025-06-14T09:19:54.845Z"
   },
   {
    "duration": 308,
    "start_time": "2025-06-14T09:20:00.754Z"
   },
   {
    "duration": 481,
    "start_time": "2025-06-14T09:20:04.516Z"
   },
   {
    "duration": 55,
    "start_time": "2025-06-14T09:20:38.488Z"
   },
   {
    "duration": 65,
    "start_time": "2025-06-14T09:21:07.389Z"
   },
   {
    "duration": 69,
    "start_time": "2025-06-14T09:21:16.282Z"
   },
   {
    "duration": 53,
    "start_time": "2025-06-14T09:21:19.160Z"
   },
   {
    "duration": 15,
    "start_time": "2025-06-14T09:21:25.453Z"
   },
   {
    "duration": 18,
    "start_time": "2025-06-14T09:21:43.263Z"
   },
   {
    "duration": 17,
    "start_time": "2025-06-14T09:23:07.674Z"
   },
   {
    "duration": 15,
    "start_time": "2025-06-14T09:23:31.853Z"
   },
   {
    "duration": 359,
    "start_time": "2025-06-14T09:23:37.288Z"
   },
   {
    "duration": 905,
    "start_time": "2025-06-14T09:24:07.710Z"
   },
   {
    "duration": 330,
    "start_time": "2025-06-14T09:24:13.967Z"
   },
   {
    "duration": 142,
    "start_time": "2025-06-14T09:26:25.981Z"
   },
   {
    "duration": 17,
    "start_time": "2025-06-14T09:26:31.177Z"
   },
   {
    "duration": 163,
    "start_time": "2025-06-14T09:27:41.656Z"
   },
   {
    "duration": 7,
    "start_time": "2025-06-14T09:31:11.235Z"
   },
   {
    "duration": 16,
    "start_time": "2025-06-14T09:31:46.057Z"
   },
   {
    "duration": 155,
    "start_time": "2025-06-14T09:31:52.126Z"
   },
   {
    "duration": 107,
    "start_time": "2025-06-14T09:32:26.518Z"
   },
   {
    "duration": 102,
    "start_time": "2025-06-14T09:34:16.614Z"
   },
   {
    "duration": 116,
    "start_time": "2025-06-14T09:36:59.165Z"
   },
   {
    "duration": 13,
    "start_time": "2025-06-14T09:37:01.950Z"
   },
   {
    "duration": 101,
    "start_time": "2025-06-14T09:37:38.212Z"
   },
   {
    "duration": 108,
    "start_time": "2025-06-14T09:38:16.179Z"
   },
   {
    "duration": 210,
    "start_time": "2025-06-14T09:39:33.377Z"
   },
   {
    "duration": 111,
    "start_time": "2025-06-14T09:39:46.539Z"
   },
   {
    "duration": 58,
    "start_time": "2025-06-14T09:40:15.156Z"
   },
   {
    "duration": 110,
    "start_time": "2025-06-14T09:40:18.732Z"
   },
   {
    "duration": 115,
    "start_time": "2025-06-14T09:40:59.000Z"
   },
   {
    "duration": 99,
    "start_time": "2025-06-14T09:41:10.565Z"
   },
   {
    "duration": 108,
    "start_time": "2025-06-14T09:41:52.706Z"
   },
   {
    "duration": 116,
    "start_time": "2025-06-14T09:42:10.787Z"
   },
   {
    "duration": 63,
    "start_time": "2025-06-14T09:42:47.335Z"
   },
   {
    "duration": 17,
    "start_time": "2025-06-14T09:43:40.299Z"
   },
   {
    "duration": 245,
    "start_time": "2025-06-14T09:43:43.134Z"
   },
   {
    "duration": 243,
    "start_time": "2025-06-14T09:44:01.823Z"
   },
   {
    "duration": 219,
    "start_time": "2025-06-14T09:44:12.316Z"
   },
   {
    "duration": 211,
    "start_time": "2025-06-14T09:44:54.435Z"
   },
   {
    "duration": 225,
    "start_time": "2025-06-14T09:45:03.242Z"
   },
   {
    "duration": 305,
    "start_time": "2025-06-14T09:45:22.515Z"
   },
   {
    "duration": 231,
    "start_time": "2025-06-14T09:45:26.811Z"
   },
   {
    "duration": 211,
    "start_time": "2025-06-14T09:45:34.390Z"
   },
   {
    "duration": 228,
    "start_time": "2025-06-14T09:46:02.455Z"
   },
   {
    "duration": 236,
    "start_time": "2025-06-14T09:46:13.727Z"
   },
   {
    "duration": 225,
    "start_time": "2025-06-14T09:46:19.109Z"
   },
   {
    "duration": 5000,
    "start_time": "2025-06-14T14:04:44.102Z"
   },
   {
    "duration": 179,
    "start_time": "2025-06-14T14:04:49.105Z"
   },
   {
    "duration": 31,
    "start_time": "2025-06-14T14:04:49.288Z"
   },
   {
    "duration": 12,
    "start_time": "2025-06-14T14:04:49.321Z"
   },
   {
    "duration": 32,
    "start_time": "2025-06-14T14:04:49.334Z"
   },
   {
    "duration": 6,
    "start_time": "2025-06-14T14:04:49.367Z"
   },
   {
    "duration": 9,
    "start_time": "2025-06-14T14:04:49.374Z"
   },
   {
    "duration": 11,
    "start_time": "2025-06-14T14:04:49.384Z"
   },
   {
    "duration": 14,
    "start_time": "2025-06-14T14:04:49.396Z"
   },
   {
    "duration": 73,
    "start_time": "2025-06-14T14:04:49.412Z"
   },
   {
    "duration": 73,
    "start_time": "2025-06-14T14:04:49.487Z"
   },
   {
    "duration": 11,
    "start_time": "2025-06-14T14:04:49.561Z"
   },
   {
    "duration": 15,
    "start_time": "2025-06-14T14:04:49.575Z"
   },
   {
    "duration": 27,
    "start_time": "2025-06-14T14:04:49.591Z"
   },
   {
    "duration": 143,
    "start_time": "2025-06-14T14:04:49.619Z"
   },
   {
    "duration": 7,
    "start_time": "2025-06-14T14:04:49.764Z"
   },
   {
    "duration": 179,
    "start_time": "2025-06-14T14:04:49.773Z"
   },
   {
    "duration": 197,
    "start_time": "2025-06-14T14:04:49.956Z"
   },
   {
    "duration": 193,
    "start_time": "2025-06-14T14:04:50.155Z"
   },
   {
    "duration": 159,
    "start_time": "2025-06-14T14:04:50.356Z"
   },
   {
    "duration": 372,
    "start_time": "2025-06-14T14:04:50.516Z"
   },
   {
    "duration": 164,
    "start_time": "2025-06-14T14:04:50.889Z"
   },
   {
    "duration": 13,
    "start_time": "2025-06-14T14:04:51.056Z"
   },
   {
    "duration": 436,
    "start_time": "2025-06-14T14:04:51.070Z"
   },
   {
    "duration": 122,
    "start_time": "2025-06-14T14:04:51.507Z"
   },
   {
    "duration": 0,
    "start_time": "2025-06-14T14:04:51.630Z"
   },
   {
    "duration": 0,
    "start_time": "2025-06-14T14:04:51.637Z"
   },
   {
    "duration": 0,
    "start_time": "2025-06-14T14:04:51.640Z"
   },
   {
    "duration": 0,
    "start_time": "2025-06-14T14:04:51.641Z"
   },
   {
    "duration": 0,
    "start_time": "2025-06-14T14:04:51.641Z"
   },
   {
    "duration": 0,
    "start_time": "2025-06-14T14:04:51.642Z"
   },
   {
    "duration": 0,
    "start_time": "2025-06-14T14:04:51.652Z"
   },
   {
    "duration": 0,
    "start_time": "2025-06-14T14:04:51.655Z"
   },
   {
    "duration": 4786,
    "start_time": "2025-06-18T12:55:09.347Z"
   },
   {
    "duration": 89,
    "start_time": "2025-06-18T12:55:14.135Z"
   },
   {
    "duration": 28,
    "start_time": "2025-06-18T12:55:14.227Z"
   },
   {
    "duration": 15,
    "start_time": "2025-06-18T12:55:14.258Z"
   },
   {
    "duration": 23,
    "start_time": "2025-06-18T12:55:14.275Z"
   },
   {
    "duration": 7,
    "start_time": "2025-06-18T12:55:14.300Z"
   },
   {
    "duration": 11,
    "start_time": "2025-06-18T12:55:15.979Z"
   },
   {
    "duration": 20,
    "start_time": "2025-06-18T12:55:20.777Z"
   },
   {
    "duration": 1286,
    "start_time": "2025-06-18T12:56:03.452Z"
   },
   {
    "duration": 1217,
    "start_time": "2025-06-18T12:56:06.276Z"
   },
   {
    "duration": 16,
    "start_time": "2025-06-18T12:56:18.251Z"
   }
  ],
  "colab": {
   "provenance": []
  },
  "kernelspec": {
   "display_name": "Python 3 (ipykernel)",
   "language": "python",
   "name": "python3"
  },
  "language_info": {
   "codemirror_mode": {
    "name": "ipython",
    "version": 3
   },
   "file_extension": ".py",
   "mimetype": "text/x-python",
   "name": "python",
   "nbconvert_exporter": "python",
   "pygments_lexer": "ipython3",
   "version": "3.9.5"
  },
  "toc": {
   "base_numbering": 1,
   "nav_menu": {},
   "number_sections": true,
   "sideBar": true,
   "skip_h1_title": true,
   "title_cell": "Table of Contents",
   "title_sidebar": "Contents",
   "toc_cell": false,
   "toc_position": {},
   "toc_section_display": true,
   "toc_window_display": false
  }
 },
 "nbformat": 4,
 "nbformat_minor": 5
}
